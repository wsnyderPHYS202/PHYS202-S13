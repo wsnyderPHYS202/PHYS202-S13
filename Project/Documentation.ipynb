{
 "metadata": {
  "name": "Documentation"
 },
 "nbformat": 3,
 "nbformat_minor": 0,
 "worksheets": [
  {
   "cells": [
    {
     "cell_type": "markdown",
     "metadata": {},
     "source": [
      "##The Program"
     ]
    },
    {
     "cell_type": "markdown",
     "metadata": {},
     "source": [
      "This progam simulates 1D traffic flow using three different models: the CA184 model, the STCA model, and the ASEP model. \n",
      "\n",
      "Each model has a similar structure, the functions take in values for an initial array, which will be a 2D array with the first dimension representing the initial positions and the second dimension representing the inital velocities. Each function will also need a maximum velocity and a road length input to run."
     ]
    },
    {
     "cell_type": "markdown",
     "metadata": {},
     "source": [
      "The STCA model includes an optional variable p representing the probability of a random slowdown, which is by default set to 10%, as well as another optional variable for a car to have cruize control."
     ]
    },
    {
     "cell_type": "markdown",
     "metadata": {},
     "source": [
      "All three models begin by sorting the given input array using the Sort function which sorts the arrays first row and mirrors this for the second row(as well as the third row). In terms of a third row, all three functions add on a third row of numeric labels after the array has been sorted, so after this point, the arrays will all have a third row so we can keep track of the cars as they cycle through the road. This helps the function to make the output more readable. "
     ]
    },
    {
     "cell_type": "markdown",
     "metadata": {},
     "source": [
      "This is where the Functions differ. The CA184 and STCA follow the same basic set of rules with the only differences being the probability of slowing down and the cruise control in the STCA function. Both functions run throught the positions of the cars staring to the lowest to the higest, measure the distance to the next car, and then apply the rules set out. When it reaches the last car, it measures the distance to the next car as the distance to the first car. Once all of the cars have had their velocities set, they all move simultaneously. Also, when a car goes farther than the road length, it cycles back to the beginning.\n",
      "\n",
      "The ASEP Function runs throught the cars randomly, moving each up as it is chosen."
     ]
    },
    {
     "cell_type": "markdown",
     "metadata": {},
     "source": [
      "Now each of these functions only moves the cars after one time step, so I made a function called Running, that takes in all of the necessary parameters as well as a string naming the function you want to run, and runs them for N many time intervals (N being an input variable)."
     ]
    },
    {
     "cell_type": "markdown",
     "metadata": {},
     "source": [
      "I also made a function called Conditions that will create a random 2D array given input of thenumber of cars, the maximum velocity, and the road length."
     ]
    },
    {
     "cell_type": "markdown",
     "metadata": {},
     "source": [
      "##How to run it"
     ]
    },
    {
     "cell_type": "markdown",
     "metadata": {},
     "source": [
      "Begin by importing the functions"
     ]
    },
    {
     "cell_type": "code",
     "collapsed": false,
     "input": [
      "from TrafficModeling import *  #TrafficModeling is all of the functions described above"
     ],
     "language": "python",
     "metadata": {},
     "outputs": [],
     "prompt_number": 1
    },
    {
     "cell_type": "markdown",
     "metadata": {},
     "source": [
      "Once this is done, we can define some variables and call the conditions function to create an initial conditions array"
     ]
    },
    {
     "cell_type": "code",
     "collapsed": false,
     "input": [
      "cars = 10\n",
      "roadLength = 100\n",
      "max_velocity = 15\n",
      "conditions = Conditions(cars,roadLength,max_velocity)\n",
      "print 'initial positions:',conditions[0]\n",
      "print 'initial velocities:',conditions[1]"
     ],
     "language": "python",
     "metadata": {},
     "outputs": [
      {
       "output_type": "stream",
       "stream": "stdout",
       "text": [
        "initial positions: [  1.   3.   4.  25.  59.  61.  68.  89.  91.  95.]\n",
        "initial velocities: [  1.  14.   3.   7.  10.  11.  10.   1.   3.   3.]\n"
       ]
      }
     ],
     "prompt_number": 2
    },
    {
     "cell_type": "markdown",
     "metadata": {},
     "source": [
      "Great! Now we'll use the Running function to run the limulation over N-many time intervals. The Running function returns a lot of information about the cars as they go through the time steps, so we should be sure to define variables for all of the returned info."
     ]
    },
    {
     "cell_type": "code",
     "collapsed": false,
     "input": [
      "final_array,currents_array,avg_velocity,car1_positions,density_array = Running(10,'STCA',conditions,roadLength,max_velocity)\n",
      "print 'final positions:',final_array[0]\n",
      "print 'final velocities:',final_array[1]\n",
      "print\n",
      "print 'array of currents:',currents_array\n",
      "print 'array of average velocity:',avg_velocity\n",
      "print 'array of positions of the first car:',car1_positions\n",
      "print 'density of cars:',density_array"
     ],
     "language": "python",
     "metadata": {},
     "outputs": [
      {
       "output_type": "stream",
       "stream": "stdout",
       "text": [
        "final positions: [  3.   5.   7.  14.  19.  25.  35.  48.  58.  89.]\n",
        "final velocities: [  8.   2.   2.   4.   5.   6.   7.   9.  10.  13.]\n",
        "\n",
        "array of currents: [ 0.45  0.51  0.44  0.47  0.44  0.45  0.48  0.54  0.63  0.66]\n",
        "array of average velocity: [ 4.5  5.1  4.4  4.7  4.4  4.5  4.8  5.4  6.3  6.6]\n",
        "array of positions of the first car: [  3.   4.   4.   4.   5.   7.  10.  14.  19.  25.]\n",
        "density of cars: [ 0.1  0.1  0.1  0.1  0.1  0.1  0.1  0.1  0.1  0.1]\n"
       ]
      }
     ],
     "prompt_number": 3
    },
    {
     "cell_type": "code",
     "collapsed": false,
     "input": [],
     "language": "python",
     "metadata": {},
     "outputs": []
    }
   ],
   "metadata": {}
  }
 ]
}