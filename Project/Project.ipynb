{
 "metadata": {
  "name": "Project"
 },
 "nbformat": 3,
 "nbformat_minor": 0,
 "worksheets": [
  {
   "cells": [
    {
     "cell_type": "markdown",
     "metadata": {},
     "source": [
      "###Making CA184"
     ]
    },
    {
     "cell_type": "code",
     "collapsed": false,
     "input": [
      "#A function to sort the incomming array by only the first dimension, but having the second dimension mirror the changes\n",
      "def Sort(array):\n",
      "    z = 0\n",
      "    if shape(array)[0] == 2:\n",
      "        while z < array.size/2:\n",
      "            for q in range(array.size/2 -1):\n",
      "                #start = array\n",
      "                if array[0][q] > array[0][q+1]:\n",
      "                    temp1 = array[0][q+1]\n",
      "                    array[0][q+1] = array[0][q]\n",
      "                    array[0][q] = temp1\n",
      "                    temp2 = array[1][q+1]\n",
      "                    array[1][q+1] = array[1][q]\n",
      "                    array[1][q] = temp2\n",
      "            z += 1\n",
      "    if shape(array)[0] == 3:\n",
      "        while z < array.size/3:\n",
      "            for q in range(array.size/3 -1):\n",
      "                #start = array\n",
      "                if array[0][q] > array[0][q+1]:\n",
      "                    temp1 = copy(array[0][q+1])\n",
      "                    array[0][q+1] = array[0][q]\n",
      "                    array[0][q] = temp1\n",
      "                    temp2 = copy(array[1][q+1])\n",
      "                    array[1][q+1] = array[1][q]\n",
      "                    array[1][q] = temp2\n",
      "                    temp3 = copy(array[2][q+1])\n",
      "                    array[2][q+1] = array[2][q]\n",
      "                    array[2][q] = temp3\n",
      "            z += 1\n",
      "        #print start\n",
      "    return array"
     ],
     "language": "python",
     "metadata": {},
     "outputs": [],
     "prompt_number": 619
    },
    {
     "cell_type": "code",
     "collapsed": false,
     "input": [
      "def CA184(xv,rl,vmax):\n",
      "    space = True\n",
      "    xvcopy = copy(xv)\n",
      "    xvarr = Sort(xvcopy)\n",
      "    if shape(xvcopy)[0] < 3:\n",
      "        car_num = arange(1,xvcopy[0].size + 1,1)\n",
      "        xvarr = vstack((xvarr,car_num))\n",
      "    g = linspace(0,1,xvarr[0].size)\n",
      "    for i in range(xvarr[0].size):\n",
      "        if i == (xvarr[0].size -1):\n",
      "            g[i] = xvarr[0][0] -(xvarr[0][i] -rl)\n",
      "            if (xvarr[0][i] + xvarr[1][i]) > rl:\n",
      "                xvarr[0][i] = xvarr[0][i] -rl\n",
      "        else:\n",
      "            g[i] = xvarr[0][i+1]-xvarr[0][i]\n",
      "        if g[i] == 0:\n",
      "            space = False\n",
      "        else:\n",
      "            space = True\n",
      "        if xvarr[1][i] >= g[i]:\n",
      "            xvarr[1][i] = g[i]\n",
      "        if xvarr[1][i]< g[i] and xvarr[1][i]<vmax:\n",
      "            xvarr[1][i] += 1\n",
      "        if xvarr[1][i] > 0 and rand(1) > 1.5:\n",
      "            xvarr[1][i] -= 1\n",
      "        if g[i] + xvarr[1][i] > rl:\n",
      "            xvarr[0][i] -= rl\n",
      "        if space:\n",
      "            xvarr[0][i] += xvarr[1][i] \n",
      "    xvarr = Sort(xvarr)\n",
      "    return xvarr"
     ],
     "language": "python",
     "metadata": {},
     "outputs": [],
     "prompt_number": 670
    },
    {
     "cell_type": "code",
     "collapsed": false,
     "input": [
      "roadLength= 40\n",
      "vmax = 10\n",
      "cars = 5\n",
      "#a = array([randint(0,40, size = cars),randint(0,10, size = cars)])\n",
      "qa = copy(Sort2D(a))\n",
      "print qa\n",
      "\n",
      "print \n",
      "\n",
      "new_a = CA184(qa,roadLength, vmax)\n",
      "print new_a\n",
      "\n",
      "print\n",
      "new2 = CA184(new_a,roadLength, vmax)\n",
      "print new2"
     ],
     "language": "python",
     "metadata": {},
     "outputs": [
      {
       "output_type": "stream",
       "stream": "stdout",
       "text": [
        "[[23 29 33 21 19]\n",
        " [ 2  4  6  4  4]]\n",
        "\n",
        "[[21 23 26 33 40]\n",
        " [ 2  2  3  4  7]\n",
        " [ 1  2  3  4  5]]\n",
        "\n",
        "[[23 26 30 38  8]\n",
        " [ 2  3  4  5  8]\n",
        " [ 1  2  3  4  5]]\n"
       ]
      }
     ],
     "prompt_number": 621
    },
    {
     "cell_type": "code",
     "collapsed": false,
     "input": [
      "def STCA(xv,rl, vmax):\n",
      "    space = True\n",
      "    xvcopy = copy(xv)\n",
      "    xvarr = Sort(xvcopy)\n",
      "    if shape(xvcopy)[0] < 3:\n",
      "        car_num = arange(1,xvcopy[0].size + 1,1)\n",
      "        xvarr = vstack((xvarr,car_num))\n",
      "    g = linspace(0,1,xvarr[0].size)\n",
      "    for i in range(xvarr[0].size):\n",
      "        if xvarr[1][i] > vmax:\n",
      "            xvarr[1][i] = vmax\n",
      "        if i == (xvarr[0].size -1):\n",
      "            g[i] = xvarr[0][0] -(xvarr[0][i] -rl)\n",
      "            if (xvarr[0][i] + xvarr[1][i]) > rl:\n",
      "                xvarr[0][i] = xvarr[0][i] -rl\n",
      "        else:\n",
      "            g[i] = xvarr[0][i+1]-xvarr[0][i]\n",
      "        if g[i] == 0:\n",
      "            space = False\n",
      "        else:\n",
      "            space = True\n",
      "        if xvarr[1][i] >= g[i]:\n",
      "            xvarr[1][i] = g[i]\n",
      "        if xvarr[1][i]< g[i] and xvarr[1][i]<vmax:\n",
      "            xvarr[1][i] += 1\n",
      "        if xvarr[1][i] > 0 and (rand(1) > 0.5):\n",
      "            xvarr[1][i] -= 1\n",
      "            print 'car',i,'had a slowdown'\n",
      "        if g[i] + xvarr[1][i] > rl:\n",
      "            xvarr[0][i] -= rl\n",
      "        if space:\n",
      "            xvarr[0][i] += xvarr[1][i]\n",
      "    xvarr = Sort(xvarr)         \n",
      "    return xvarr"
     ],
     "language": "python",
     "metadata": {},
     "outputs": [],
     "prompt_number": 673
    },
    {
     "cell_type": "code",
     "collapsed": false,
     "input": [
      "def ASEP(xv,rl, vmax):\n",
      "    space = True\n",
      "    xvcopy = copy(xv)\n",
      "    xvarr = Sort(xvcopy)\n",
      "    if shape(xvcopy)[0] < 3:\n",
      "        car_num = arange(1,xvcopy[0].size + 1,1)\n",
      "        xvarr = vstack((xvarr,car_num))\n",
      "    loopNum = 1\n",
      "    size = xvarr[0].size\n",
      "    g = linspace(0,1,size)\n",
      "    randArr = random.permutation(size)\n",
      "    #print randArr\n",
      "    for i in randArr:\n",
      "        if xvarr[1][i] > vmax:\n",
      "            xvarr[1][i] = vmax\n",
      "        if i == (size -1):\n",
      "            g[i] = xvarr[0][0] -(xvarr[0][i] -rl)\n",
      "            if (xvarr[0][i] + xvarr[1][i]) > rl:\n",
      "                xvarr[0][i] = xvarr[0][i] -rl\n",
      "        else:\n",
      "            g[i] = xvarr[0][i+1]-xvarr[0][i]\n",
      "        if g[i] == 0:\n",
      "            space = False\n",
      "        else:\n",
      "            space = True\n",
      "        if xvarr[1][i] >= g[i]:\n",
      "            xvarr[1][i] = g[i]\n",
      "        if xvarr[1][i]< g[i] and xvarr[1][i]<vmax:\n",
      "            xvarr[1][i] += 1\n",
      "        if xvarr[1][i] > 0 and rand(1) > 1.5:\n",
      "            xvarr[1][i] -= 1\n",
      "        if g[i] + xvarr[1][i] > rl:\n",
      "            xvarr[0][i] -= rl\n",
      "        if space:\n",
      "            xvarr[0][i] += xvarr[1][i]\n",
      "        loopNum += 1\n",
      "    xvarr = Sort(xvarr)\n",
      "    return xvarr"
     ],
     "language": "python",
     "metadata": {},
     "outputs": [],
     "prompt_number": 674
    },
    {
     "cell_type": "code",
     "collapsed": false,
     "input": [
      "roadLength= 40.\n",
      "vmax = 10\n",
      "cars = 5.\n",
      "a2 = array([randint(0,40, size = cars),randint(0,10, size = cars)])\n",
      "print Sort(a2)\n",
      "\n",
      "print \n",
      "\n",
      "new_a2 = ASEP(a2,roadLength, vmax)\n",
      "print new_a2"
     ],
     "language": "python",
     "metadata": {},
     "outputs": [
      {
       "output_type": "stream",
       "stream": "stdout",
       "text": [
        "[[ 1  2  9 19 36]\n",
        " [ 9  7  6  4  9]]\n",
        "\n",
        "[[ 2 10 16 24  2]\n",
        " [ 1  8  7  5  6]\n",
        " [ 1  2  3  4  5]]\n"
       ]
      }
     ],
     "prompt_number": 624
    },
    {
     "cell_type": "code",
     "collapsed": false,
     "input": [
      "def Conditions(cnumb, roadLength, vmax):\n",
      "    #vmax = randint(5,15)\n",
      "    #print 'vmax:',vmax\n",
      "    a2 = array([zeros(cnumb), zeros(cnumb)])\n",
      "    a2[0] = randint(1,roadLength, size = cnumb)\n",
      "    a2[1] = randint(1,vmax, size = cnumb)\n",
      "    conditions = Sort(a2)\n",
      "    return conditions"
     ],
     "language": "python",
     "metadata": {},
     "outputs": [],
     "prompt_number": 625
    },
    {
     "cell_type": "code",
     "collapsed": false,
     "input": [
      "def Running(N,func_name, arr, rl, vamx):\n",
      "    dens_arr = zeros(N)\n",
      "    v_arr = zeros(N)\n",
      "    cur_arr = zeros(N)\n",
      "    new_arr = copy(arr)\n",
      "    for q in range(N):\n",
      "        if func_name == 'CA184':\n",
      "            temp = CA184(new_arr, rl, vmax)\n",
      "            new_arr = copy(temp)\n",
      "        if func_name == 'STCA':\n",
      "            temp = CA184(new_arr, rl, vmax)\n",
      "            new_arr = copy(temp)\n",
      "        if func_name == 'ASEP':\n",
      "            temp = CA184(new_arr, rl, vmax)\n",
      "            new_arr = copy(temp)\n",
      "        \n",
      "        density = new_arr.shape[1]/rl\n",
      "        dens_arr[q] += density\n",
      "        #print 'density:',density\n",
      "        v_avg = float(sum(new_arr[1])/new_arr.shape[1])\n",
      "        v_arr[q] += v_avg\n",
      "        #print 'v_avg:', v_avg\n",
      "        current = density*v_avg\n",
      "        cur_arr[q] += current\n",
      "    #print 'densities',dens_arr\n",
      "    #print 'average velocities',v_arr\n",
      "    #print 'current',cur_arr\n",
      "    #print \n",
      "    #print 'Array after',N,'steps:'\n",
      "    #print new_arr\n",
      "    return new_arr,cur_arr"
     ],
     "language": "python",
     "metadata": {},
     "outputs": [],
     "prompt_number": 720
    },
    {
     "cell_type": "code",
     "collapsed": false,
     "input": [
      "rl = 100.\n",
      "vmax = 10.\n",
      "conditions = Conditions(10, rl,vmax)\n",
      "print 'car positions',conditions[0]\n",
      "print 'car velocities',conditions[1]\n"
     ],
     "language": "python",
     "metadata": {},
     "outputs": [
      {
       "output_type": "stream",
       "stream": "stdout",
       "text": [
        "car positions [ 11.  12.  14.  51.  53.  56.  61.  79.  91.  95.]\n",
        "car velocities [ 3.  8.  8.  7.  8.  4.  9.  4.  3.  4.]\n"
       ]
      }
     ],
     "prompt_number": 721
    },
    {
     "cell_type": "code",
     "collapsed": false,
     "input": [
      "time = arange(0,20, 1)\n",
      "final, current = Running(20, 'CA184', conditions,rl,vmax)\n",
      "plot(time, current)\n",
      "#plot(carpos, time)"
     ],
     "language": "python",
     "metadata": {},
     "outputs": [
      {
       "output_type": "pyout",
       "prompt_number": 729,
       "text": [
        "[<matplotlib.lines.Line2D at 0x4b098d0>]"
       ]
      },
      {
       "output_type": "display_data",
       "png": "[encoded data removed]"
      }
     ],
     "prompt_number": 729
    },
    {
     "cell_type": "code",
     "collapsed": false,
     "input": [],
     "language": "python",
     "metadata": {},
     "outputs": [],
     "prompt_number": 681
    },
    {
     "cell_type": "code",
     "collapsed": false,
     "input": [],
     "language": "python",
     "metadata": {},
     "outputs": [],
     "prompt_number": 636
    },
    {
     "cell_type": "code",
     "collapsed": false,
     "input": [],
     "language": "python",
     "metadata": {},
     "outputs": [],
     "prompt_number": 633
    },
    {
     "cell_type": "code",
     "collapsed": false,
     "input": [],
     "language": "python",
     "metadata": {},
     "outputs": [],
     "prompt_number": 633
    },
    {
     "cell_type": "code",
     "collapsed": false,
     "input": [],
     "language": "python",
     "metadata": {},
     "outputs": [],
     "prompt_number": 632
    },
    {
     "cell_type": "code",
     "collapsed": false,
     "input": [],
     "language": "python",
     "metadata": {},
     "outputs": [],
     "prompt_number": 632
    }
   ],
   "metadata": {}
  }
 ]
}