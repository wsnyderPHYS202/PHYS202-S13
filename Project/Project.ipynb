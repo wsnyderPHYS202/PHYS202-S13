{
 "metadata": {
  "name": "Project"
 },
 "nbformat": 3,
 "nbformat_minor": 0,
 "worksheets": [
  {
   "cells": [
    {
     "cell_type": "markdown",
     "metadata": {},
     "source": [
      "###Making CA184"
     ]
    },
    {
     "cell_type": "code",
     "collapsed": false,
     "input": [
      "#A function to sort the incomming array by only the first dimension, but having the second dimension mirror the changes\n",
      "def Sort2D(array):\n",
      "    z = 0\n",
      "    while z < array.size/2:\n",
      "        for q in range(array.size/2 -1):\n",
      "            start = array\n",
      "            if array[0][q] > array[0][q+1]:\n",
      "                temp1 = array[0][q+1]\n",
      "                array[0][q+1] = array[0][q]\n",
      "                array[0][q] = temp1\n",
      "                temp2 = array[1][q+1]\n",
      "                array[1][q+1] = array[1][q]\n",
      "                array[1][q] = temp2\n",
      "        z += 1\n",
      "    return array"
     ],
     "language": "python",
     "metadata": {},
     "outputs": [],
     "prompt_number": 41
    },
    {
     "cell_type": "code",
     "collapsed": false,
     "input": [
      "def CA184(xvarr,rl):\n",
      "    vmax = 10\n",
      "    space = True\n",
      "    g = linspace(0,1,xvarr.size/2)\n",
      "    xvarr = Sort2D(xvarr)\n",
      "    for i in range(xvarr.size/2 -1):\n",
      "        g[i] = xvarr[0][i]-xvarr[0][i+1]\n",
      "        if g[i] == 0:\n",
      "            space = False\n",
      "        else:\n",
      "            space = True\n",
      "        if xvarr[1][i] >= g[i]:\n",
      "            xvarr[1][i] = g[i]\n",
      "        if xvarr[1][i]<= g[i] and xvarr[1][i]<vmax:\n",
      "            xvarr[1][i] += 1\n",
      "        if xvarr[1][i] > 0 and rand(1) > .5:\n",
      "            xvarr[1][i] -= 1\n",
      "        if space:\n",
      "            xvarr[0][i] += xvarr[1][i]\n",
      "            \n",
      "    return xvarr"
     ],
     "language": "python",
     "metadata": {},
     "outputs": [],
     "prompt_number": 71
    },
    {
     "cell_type": "code",
     "collapsed": false,
     "input": [
      "rl= 40\n",
      "vmax = 10\n",
      "a = array([randint(0,40, size = 5),randint(0,10, size = 5)])\n",
      "print a\n",
      "\n",
      "print \n",
      "\n",
      "new_a = CA184(a,40)\n",
      "print new_a"
     ],
     "language": "python",
     "metadata": {},
     "outputs": [
      {
       "output_type": "stream",
       "stream": "stdout",
       "text": [
        "[[32  9 17  4 20]\n",
        " [ 3  4  8  3  0]]\n",
        "\n",
        "[[  0   2  15   9  32]\n",
        " [ -4  -7  -2 -11   3]]\n"
       ]
      }
     ],
     "prompt_number": 78
    },
    {
     "cell_type": "code",
     "collapsed": false,
     "input": [],
     "language": "python",
     "metadata": {},
     "outputs": []
    }
   ],
   "metadata": {}
  }
 ]
}