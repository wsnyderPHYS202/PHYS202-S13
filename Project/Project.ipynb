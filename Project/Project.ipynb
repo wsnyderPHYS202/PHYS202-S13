{
 "metadata": {
  "name": "Project"
 },
 "nbformat": 3,
 "nbformat_minor": 0,
 "worksheets": [
  {
   "cells": [
    {
     "cell_type": "markdown",
     "metadata": {},
     "source": [
      "###Making CA184"
     ]
    },
    {
     "cell_type": "code",
     "collapsed": false,
     "input": [
      "#A function to sort the incomming array by only the first dimension, but having the second dimension mirror the changes\n",
      "def Sort2D(array):\n",
      "    z = 0\n",
      "    while z < array.size/2:\n",
      "        for q in range(array.size/2 -1):\n",
      "            start = array\n",
      "            if array[0][q] > array[0][q+1]:\n",
      "                temp1 = array[0][q+1]\n",
      "                array[0][q+1] = array[0][q]\n",
      "                array[0][q] = temp1\n",
      "                temp2 = array[1][q+1]\n",
      "                array[1][q+1] = array[1][q]\n",
      "                array[1][q] = temp2\n",
      "        z += 1\n",
      "    return array"
     ],
     "language": "python",
     "metadata": {},
     "outputs": [],
     "prompt_number": 12
    },
    {
     "cell_type": "code",
     "collapsed": false,
     "input": [
      "def CA184(xv,rl, vmax):\n",
      "    space = True\n",
      "    xvarr = Sort2D(xv)\n",
      "    g = linspace(0,1,xvarr[0].size)\n",
      "    for i in range(xvarr[0].size):\n",
      "        if i == (xvarr[0].size -1):\n",
      "            g[i] = xvarr[0][0] -(xvarr[0][i] -rl)\n",
      "            if (xvarr[0][i] + xvarr[1][i]) > rl:\n",
      "                xvarr[0][i] = xvarr[0][i] -rl\n",
      "        else:\n",
      "            g[i] = xvarr[0][i+1]-xvarr[0][i]\n",
      "        if g[i] == 0:\n",
      "            space = False\n",
      "        else:\n",
      "            space = True\n",
      "        if xvarr[1][i] >= g[i]:\n",
      "            xvarr[1][i] = g[i]\n",
      "        if xvarr[1][i]< g[i] and xvarr[1][i]<vmax:\n",
      "            xvarr[1][i] += 1\n",
      "        if xvarr[1][i] > 0 and rand(1) > 1.5:\n",
      "            xvarr[1][i] -= 1\n",
      "        if g[i] + xvarr[1][i] > rl:\n",
      "            xvarr[0][i] -= rl\n",
      "        if space:\n",
      "            xvarr[0][i] += xvarr[1][i]\n",
      "             \n",
      "    return xvarr"
     ],
     "language": "python",
     "metadata": {},
     "outputs": [],
     "prompt_number": 13
    },
    {
     "cell_type": "code",
     "collapsed": false,
     "input": [
      "roadLength= 40\n",
      "vmax = 10\n",
      "cars = 5\n",
      "a = array([randint(0,40, size = cars),randint(0,10, size = cars)])\n",
      "print Sort2D(a)\n",
      "\n",
      "print \n",
      "\n",
      "new_a = CA184(a,roadLength, vmax)\n",
      "print new_a\n",
      "\n",
      "print \n",
      "new2 = CA184(new_a,roadLength, vmax)\n",
      "print new2"
     ],
     "language": "python",
     "metadata": {},
     "outputs": [
      {
       "output_type": "stream",
       "stream": "stdout",
       "text": [
        "[[ 5 11 15 18 29]\n",
        " [ 0  3  8  0  6]]\n",
        "\n",
        "[[ 6 15 18 19 36]\n",
        " [ 1  4  3  1  7]]\n",
        "\n",
        "[[ 8 18 19 21  4]\n",
        " [ 2  3  1  2  8]]\n"
       ]
      }
     ],
     "prompt_number": 14
    },
    {
     "cell_type": "code",
     "collapsed": false,
     "input": [
      "def STCA(xv,rl, vmax):\n",
      "    space = True\n",
      "    xvarr = Sort2D(xv)\n",
      "    g = linspace(0,1,xvarr[0].size)\n",
      "    for i in range(xvarr[0].size):\n",
      "        if xvarr[1][i] > vmax:\n",
      "            xvarr[1][i] = vmax\n",
      "        if i == (xvarr[0].size -1):\n",
      "            g[i] = xvarr[0][0] -(xvarr[0][i] -rl)\n",
      "            if (xvarr[0][i] + xvarr[1][i]) > rl:\n",
      "                xvarr[0][i] = xvarr[0][i] -rl\n",
      "        else:\n",
      "            g[i] = xvarr[0][i+1]-xvarr[0][i]\n",
      "        if g[i] == 0:\n",
      "            space = False\n",
      "        else:\n",
      "            space = True\n",
      "        if xvarr[1][i] >= g[i]:\n",
      "            xvarr[1][i] = g[i]\n",
      "        if xvarr[1][i]< g[i] and xvarr[1][i]<vmax:\n",
      "            xvarr[1][i] += 1\n",
      "        if xvarr[1][i] > 0 and rand(1) > 1.5:\n",
      "            xvarr[1][i] -= 1\n",
      "        if g[i] + xvarr[1][i] > rl:\n",
      "            xvarr[0][i] -= rl\n",
      "        if space:\n",
      "            xvarr[0][i] += xvarr[1][i]\n",
      "             \n",
      "    return xvarr"
     ],
     "language": "python",
     "metadata": {},
     "outputs": [],
     "prompt_number": 15
    },
    {
     "cell_type": "code",
     "collapsed": false,
     "input": [
      "def ASEP(xv,rl, vmax):\n",
      "    space = True\n",
      "    xvarr = Sort2D(xv)\n",
      "    loopNum = 1\n",
      "    size = xvarr[0].size\n",
      "    g = linspace(0,1,size)\n",
      "    randArr = random.permutation(size)\n",
      "    #print randArr\n",
      "    for i in randArr:\n",
      "        if xvarr[1][i] > vmax:\n",
      "            xvarr[1][i] = vmax\n",
      "        if i == (size -1):\n",
      "            g[i] = xvarr[0][0] -(xvarr[0][i] -rl)\n",
      "            if (xvarr[0][i] + xvarr[1][i]) > rl:\n",
      "                xvarr[0][i] = xvarr[0][i] -rl\n",
      "        else:\n",
      "            g[i] = xvarr[0][i+1]-xvarr[0][i]\n",
      "        if g[i] == 0:\n",
      "            space = False\n",
      "        else:\n",
      "            space = True\n",
      "        if xvarr[1][i] >= g[i]:\n",
      "            xvarr[1][i] = g[i]\n",
      "        if xvarr[1][i]< g[i] and xvarr[1][i]<vmax:\n",
      "            xvarr[1][i] += 1\n",
      "        if xvarr[1][i] > 0 and rand(1) > 1.5:\n",
      "            xvarr[1][i] -= 1\n",
      "        if g[i] + xvarr[1][i] > rl:\n",
      "            xvarr[0][i] -= rl\n",
      "        if space:\n",
      "            xvarr[0][i] += xvarr[1][i]\n",
      "        loopNum += 1\n",
      "    return xvarr"
     ],
     "language": "python",
     "metadata": {},
     "outputs": [],
     "prompt_number": 16
    },
    {
     "cell_type": "code",
     "collapsed": false,
     "input": [
      "roadLength= 40.\n",
      "vmax = 10\n",
      "cars = 5.\n",
      "a2 = array([randint(0,40, size = cars),randint(0,10, size = cars)])\n",
      "print Sort2D(a2)\n",
      "\n",
      "print \n",
      "\n",
      "new_a2 = ASEP(a2,roadLength, vmax)\n",
      "print new_a2"
     ],
     "language": "python",
     "metadata": {},
     "outputs": [
      {
       "output_type": "stream",
       "stream": "stdout",
       "text": [
        "[[12 20 21 25 37]\n",
        " [ 4  2  2  5  9]]\n",
        "\n",
        "[[ 17  23  24   7   7]\n",
        " [  5   3   3 -18  10]]\n"
       ]
      }
     ],
     "prompt_number": 24
    },
    {
     "cell_type": "code",
     "collapsed": false,
     "input": [
      "def Conditions(steps):\n",
      "    roadLength= randint(40,100)\n",
      "    vmax = randint(5,15)\n",
      "    cars = randint\n",
      "    a2 = array([randint(0,40, size = cars),randint(0,10, size = cars)])"
     ],
     "language": "python",
     "metadata": {},
     "outputs": [],
     "prompt_number": 28
    },
    {
     "cell_type": "code",
     "collapsed": false,
     "input": [
      "asd = array([[1,1,1,1,1],[1.,2.,3.,4.,5]])\n",
      "density = cars/roadLength\n",
      "v_avg = sum(asd[1])/cars\n",
      "current = density*v_avg\n",
      "print current"
     ],
     "language": "python",
     "metadata": {},
     "outputs": [
      {
       "output_type": "stream",
       "stream": "stdout",
       "text": [
        "0.375\n"
       ]
      }
     ],
     "prompt_number": 27
    }
   ],
   "metadata": {}
  }
 ]
}