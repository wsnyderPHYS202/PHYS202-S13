{
 "metadata": {
  "name": "Project"
 },
 "nbformat": 3,
 "nbformat_minor": 0,
 "worksheets": [
  {
   "cells": [
    {
     "cell_type": "markdown",
     "metadata": {},
     "source": [
      "###Making CA184"
     ]
    },
    {
     "cell_type": "code",
     "collapsed": false,
     "input": [
      "#A function to sort the incomming array by only the first dimension, but having the second dimension mirror the changes\n",
      "def Sort2D(array):\n",
      "    z = 0\n",
      "    while z < array.size/2:\n",
      "        for q in range(array.size/2 -1):\n",
      "            start = array\n",
      "            if array[0][q] > array[0][q+1]:\n",
      "                temp1 = array[0][q+1]\n",
      "                array[0][q+1] = array[0][q]\n",
      "                array[0][q] = temp1\n",
      "                temp2 = array[1][q+1]\n",
      "                array[1][q+1] = array[1][q]\n",
      "                array[1][q] = temp2\n",
      "        z += 1\n",
      "    return array"
     ],
     "language": "python",
     "metadata": {},
     "outputs": [],
     "prompt_number": 3
    },
    {
     "cell_type": "code",
     "collapsed": false,
     "input": [
      "def CA184(xv,rl, vmax):\n",
      "    space = True\n",
      "    xvarr = Sort2D(xv)\n",
      "    g = linspace(0,1,xvarr[0].size)\n",
      "    for i in range(xvarr[0].size):\n",
      "        if i == (xvarr[0].size -1):\n",
      "            g[i] = xvarr[0][0] -(xvarr[0][i] -rl)\n",
      "            if (xvarr[0][i] + xvarr[1][i]) > rl:\n",
      "                xvarr[0][i] = xvarr[0][i] -rl\n",
      "        else:\n",
      "            g[i] = xvarr[0][i+1]-xvarr[0][i]\n",
      "        if g[i] == 0:\n",
      "            space = False\n",
      "        else:\n",
      "            space = True\n",
      "        if xvarr[1][i] >= g[i]:\n",
      "            xvarr[1][i] = g[i]\n",
      "        if xvarr[1][i]< g[i] and xvarr[1][i]<vmax:\n",
      "            xvarr[1][i] += 1\n",
      "        if xvarr[1][i] > 0 and rand(1) > 1.5:\n",
      "            xvarr[1][i] -= 1\n",
      "        if g[i] + xvarr[1][i] > rl:\n",
      "            xvarr[0][i] -= rl\n",
      "        if space:\n",
      "            xvarr[0][i] += xvarr[1][i]\n",
      "             \n",
      "    return xvarr"
     ],
     "language": "python",
     "metadata": {},
     "outputs": [],
     "prompt_number": 106
    },
    {
     "cell_type": "code",
     "collapsed": false,
     "input": [
      "roadLength= 40\n",
      "vmax = 10\n",
      "a = array([randint(0,40, size = 5),randint(0,10, size = 5)])\n",
      "print Sort2D(a)\n",
      "\n",
      "print \n",
      "\n",
      "new_a = CA184(a,roadLength, vmax)\n",
      "print new_a\n",
      "\n",
      "print \n",
      "new2 = CA184(new_a,roadLength, vmax)\n",
      "print new2"
     ],
     "language": "python",
     "metadata": {},
     "outputs": [
      {
       "output_type": "stream",
       "stream": "stdout",
       "text": [
        "[[ 3  9 12 17 21]\n",
        " [ 8  4  4  9  1]]\n",
        "\n",
        "[[ 9 12 17 21 23]\n",
        " [ 6  3  5  4  2]]\n",
        "\n",
        "[[12 16 21 23 26]\n",
        " [ 3  4  4  2  3]]\n"
       ]
      }
     ],
     "prompt_number": 107
    },
    {
     "cell_type": "code",
     "collapsed": false,
     "input": [
      "def STCA(xv,rl, vmax):\n",
      "    space = True\n",
      "    xvarr = Sort2D(xv)\n",
      "    g = linspace(0,1,xvarr[0].size)\n",
      "    for i in range(xvarr[0].size):\n",
      "        if xvarr[1][i] > vmax:\n",
      "            xvarr[1][i] = vmax\n",
      "        if i == (xvarr[0].size -1):\n",
      "            g[i] = xvarr[0][0] -(xvarr[0][i] -rl)\n",
      "            if (xvarr[0][i] + xvarr[1][i]) > rl:\n",
      "                xvarr[0][i] = xvarr[0][i] -rl\n",
      "        else:\n",
      "            g[i] = xvarr[0][i+1]-xvarr[0][i]\n",
      "        if g[i] == 0:\n",
      "            space = False\n",
      "        else:\n",
      "            space = True\n",
      "        if xvarr[1][i] >= g[i]:\n",
      "            xvarr[1][i] = g[i]\n",
      "        if xvarr[1][i]< g[i] and xvarr[1][i]<vmax:\n",
      "            xvarr[1][i] += 1\n",
      "        if xvarr[1][i] > 0 and rand(1) > 1.5:\n",
      "            xvarr[1][i] -= 1\n",
      "        if g[i] + xvarr[1][i] > rl:\n",
      "            xvarr[0][i] -= rl\n",
      "        if space:\n",
      "            xvarr[0][i] += xvarr[1][i]\n",
      "             \n",
      "    return xvarr"
     ],
     "language": "python",
     "metadata": {},
     "outputs": [],
     "prompt_number": 108
    },
    {
     "cell_type": "code",
     "collapsed": false,
     "input": [
      "def ASEP(xv,rl, vmax):\n",
      "    space = True\n",
      "    xvarr = Sort2D(xv)\n",
      "    loopNum = 1\n",
      "    size = xvarr[0].size\n",
      "    g = linspace(0,1,size)\n",
      "    randArr = random.permutation(size)\n",
      "    #print randArr\n",
      "    for i in randArr:\n",
      "        if xvarr[1][i] > vmax:\n",
      "            xvarr[1][i] = vmax\n",
      "        if i == (size -1):\n",
      "            g[i] = xvarr[0][0] -(xvarr[0][i] -rl)\n",
      "            if (xvarr[0][i] + xvarr[1][i]) > rl:\n",
      "                xvarr[0][i] = xvarr[0][i] -rl\n",
      "        else:\n",
      "            g[i] = xvarr[0][i+1]-xvarr[0][i]\n",
      "        if g[i] == 0:\n",
      "            space = False\n",
      "        else:\n",
      "            space = True\n",
      "        if xvarr[1][i] >= g[i]:\n",
      "            xvarr[1][i] = g[i]\n",
      "        if xvarr[1][i]< g[i] and xvarr[1][i]<vmax:\n",
      "            xvarr[1][i] += 1\n",
      "        if xvarr[1][i] > 0 and rand(1) > 1.5:\n",
      "            xvarr[1][i] -= 1\n",
      "        if g[i] + xvarr[1][i] > rl:\n",
      "            xvarr[0][i] -= rl\n",
      "        if space:\n",
      "            xvarr[0][i] += xvarr[1][i]\n",
      "        loopNum += 1\n",
      "    return xvarr"
     ],
     "language": "python",
     "metadata": {},
     "outputs": [],
     "prompt_number": 131
    },
    {
     "cell_type": "code",
     "collapsed": false,
     "input": [
      "roadLength= 40\n",
      "vmax = 10\n",
      "a2 = array([randint(0,40, size = 5),randint(0,10, size = 5)])\n",
      "print Sort2D(a2)\n",
      "\n",
      "print \n",
      "\n",
      "new_a2 = ASEP(a2,roadLength, vmax)\n",
      "print new_a2"
     ],
     "language": "python",
     "metadata": {},
     "outputs": [
      {
       "output_type": "stream",
       "stream": "stdout",
       "text": [
        "[[ 1  6 13 23 30]\n",
        " [ 6  2  3  2  9]]\n",
        "\n",
        "[[ 8  9 17 26 40]\n",
        " [ 7  3  4  3 10]]\n"
       ]
      }
     ],
     "prompt_number": 132
    },
    {
     "cell_type": "code",
     "collapsed": false,
     "input": [],
     "language": "python",
     "metadata": {},
     "outputs": [],
     "prompt_number": 132
    }
   ],
   "metadata": {}
  }
 ]
}