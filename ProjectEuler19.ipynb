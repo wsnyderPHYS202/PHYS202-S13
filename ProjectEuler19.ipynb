{
 "metadata": {
  "name": "ProjectEuler19"
 },
 "nbformat": 3,
 "nbformat_minor": 0,
 "worksheets": [
  {
   "cells": [
    {
     "cell_type": "code",
     "collapsed": false,
     "input": [
      "days = 0\n",
      "sdays = 0\n",
      "count = 0\n",
      "total = 0\n",
      "for q in range(36525):\n",
      "    day += 1\n",
      "    if((day-5) % 7 == 0 ):\n",
      "        sdays += 1\n",
      "print sdays\n",
      "        "
     ],
     "language": "python",
     "metadata": {},
     "outputs": [
      {
       "output_type": "stream",
       "stream": "stdout",
       "text": [
        "5218\n"
       ]
      }
     ],
     "prompt_number": 29
    },
    {
     "cell_type": "code",
     "collapsed": false,
     "input": [
      "days = 2 #Sunday is 0, Tuesday is 2, Janusary 1 1901 was a Tuesday\n",
      "sdays = 0\n",
      "count = 0\n",
      "years = 0\n",
      "for a in range(1,36525):\n",
      "    if(years%4 != 0):\n",
      "        days += 1\n",
      "    else:\n",
      "        days += 2\n",
      "    if(days % 7 == 0):\n",
      "        sdays += 1\n",
      "print sdays"
     ],
     "language": "python",
     "metadata": {},
     "outputs": [
      {
       "output_type": "stream",
       "stream": "stdout",
       "text": [
        "5217\n"
       ]
      }
     ],
     "prompt_number": 43
    },
    {
     "cell_type": "code",
     "collapsed": false,
     "input": [],
     "language": "python",
     "metadata": {},
     "outputs": []
    }
   ],
   "metadata": {}
  }
 ]
}