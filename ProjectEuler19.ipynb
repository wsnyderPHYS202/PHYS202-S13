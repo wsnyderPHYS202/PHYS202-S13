{
 "metadata": {
  "name": "ProjectEuler19"
 },
 "nbformat": 3,
 "nbformat_minor": 0,
 "worksheets": [
  {
   "cells": [
    {
     "cell_type": "heading",
     "level": 2,
     "metadata": {},
     "source": [
      "Project Euler Problem 19"
     ]
    },
    {
     "cell_type": "markdown",
     "metadata": {},
     "source": [
      "My code runs through each month, checks only the first day, then adds the numbers of weekdays that will pass before the first day of the next month. For example, a 30 day month that begins on a Monday, will add two days because the next month begins on a Wednesday."
     ]
    },
    {
     "cell_type": "code",
     "collapsed": false,
     "input": [
      "day = 2 #Day of the week. Sunday is 0, Tuesday is 2. Janusary 1 1901 was a Tuesday\n",
      "sundays = 0\n",
      "leap = False\n",
      "\n",
      "for a in range(1,101): #Runs through 100 years (1901-2000)\n",
      "    if(a%4 == 0): #Tests for a leap year\n",
      "        leap = True\n",
      "    else:\n",
      "        leap = False\n",
      "    for month in range(1,13): #Runs through 12 months each year\n",
      "        if(month == 2): #Checks for February; adds to the day of the week in a leap year\n",
      "            if(day == 0):\n",
      "                sundays += 1\n",
      "            if(leap):\n",
      "                day += 1\n",
      "        elif(month == 4 or month == 6 or month == 9 or month == 11):#checks for 30 day months; adds 2 to the day of the week\n",
      "            if(day == 0):\n",
      "                sundays += 1\n",
      "            day += 2\n",
      "        else:#31 day months; adds 3 to the day of the week\n",
      "            if(day == 0):\n",
      "                sundays += 1\n",
      "            day += 3\n",
      "        if(day > 6): #Resets the day of the week if over 6(Saturday)\n",
      "            overlap = day%7\n",
      "            day = overlap\n",
      "        \n",
      "print sundays"
     ],
     "language": "python",
     "metadata": {},
     "outputs": [
      {
       "output_type": "stream",
       "stream": "stdout",
       "text": [
        "171\n"
       ]
      }
     ],
     "prompt_number": 34
    },
    {
     "cell_type": "code",
     "collapsed": false,
     "input": [],
     "language": "python",
     "metadata": {},
     "outputs": [],
     "prompt_number": 17
    },
    {
     "cell_type": "code",
     "collapsed": false,
     "input": [],
     "language": "python",
     "metadata": {},
     "outputs": [],
     "prompt_number": 16
    },
    {
     "cell_type": "code",
     "collapsed": false,
     "input": [],
     "language": "python",
     "metadata": {},
     "outputs": []
    }
   ],
   "metadata": {}
  }
 ]
}