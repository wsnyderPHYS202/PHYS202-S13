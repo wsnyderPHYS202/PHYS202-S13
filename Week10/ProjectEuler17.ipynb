{
 "metadata": {
  "name": "ProjectEuler17"
 },
 "nbformat": 3,
 "nbformat_minor": 0,
 "worksheets": [
  {
   "cells": [
    {
     "cell_type": "markdown",
     "metadata": {},
     "source": [
      "Number letter counts\n",
      "====================\n",
      "Problem 17\n",
      "----------\n",
      "If the numbers 1 to 5 are written out in words: one, two, three, four, five, then there are 3 + 3 + 5 + 4 + 4 = 19 letters used in total.\n",
      "\n",
      "If all the numbers from 1 to 1000 (one thousand) inclusive were written out in words, how many letters would be used?\n",
      "\n",
      "\n",
      "NOTE: Do not count spaces or hyphens. For example, 342 (three hundred and forty-two) contains 23 letters and 115 (one hundred and fifteen) contains 20 letters. The use of \"and\" when writing out numbers is in compliance with British usage."
     ]
    },
    {
     "cell_type": "code",
     "collapsed": false,
     "input": [
      "def NumLetterCount(N):\n",
      "    total = 0\n",
      "    for a in range(1,N+1):#loops over the numbers\n",
      "        count = 1\n",
      "        z = zeros(4)#since we only need numbers up to 1000, I made this only 4 places long\n",
      "        icount = 1\n",
      "        stN = str(a)[::-1]#makes the string backward ie 51->15\n",
      "        store = False\n",
      "        for i in stN:#revalues z from the back, foreward ie 51->15 by stN, then this loop fills in 1 then 5 to make [0,0,5,1]\n",
      "            z[-icount] = i\n",
      "            icount += 1\n",
      "        for q in z:\n",
      "            if count == 1: #adds letters of 'one thousand'\n",
      "                if q == 0:\n",
      "                    total += 0\n",
      "                else:\n",
      "                    total += 11\n",
      "            if count == 2: #adds letters for the hundreths place\n",
      "                if q == 0:#checks if the hundreths place is 0\n",
      "                    total += 0\n",
      "                else:\n",
      "                    total += 10 #adds letters for 'hundred and'\n",
      "                if q == 1 or q == 2 or q == 6:#checks for three letter numbers\n",
      "                    total += 3\n",
      "                if q == 4 or q == 5 or q == 9:#checks for four letter numbers\n",
      "                    total += 4\n",
      "                if q == 3 or q == 7 or q == 8:#checks for five letter numbers\n",
      "                    total += 5\n",
      "            if count == 3:#adds letters for the tens place(excluding 10's)\n",
      "                if q == 0:#checks if the tens place is 0\n",
      "                    total += 0\n",
      "                if q == 2 or q == 3 or q == 4 or q == 8 or q == 9:#checks for 6 letter numbers \n",
      "                    total += 6\n",
      "                if q == 6 or q == 5:#checks for five letter numbers\n",
      "                    total += 5\n",
      "                if q == 7:#checks for seven letter numbers\n",
      "                    total += 7\n",
      "            if count == 3 and q == 1:#checks to see if the number is 10-19\n",
      "                store = True\n",
      "            if count == 4 and store:#activates in the 4th loop if the last two digits are 10-19\n",
      "                if q == 0:#checks 10\n",
      "                    total += 3\n",
      "                if q == 1 or q == 2:#checks 11, 12\n",
      "                    total += 6\n",
      "                if q == 3 or q == 4 or q == 8 or q == 9:#checks 13,14,18,19\n",
      "                    total += 8\n",
      "                if q == 5 or q == 6:#checks 15,16\n",
      "                    total += 7\n",
      "                if q == 7:#checks 17\n",
      "                    total += 9\n",
      "            if count == 4 and not store:#adds letters for the ones place\n",
      "                if q == 0:#checks if the ones place is 0\n",
      "                    total += 0\n",
      "                if q == 1 or q == 2 or q == 6:\n",
      "                    total += 3\n",
      "                if q == 4 or q == 5 or q == 9:#checks for 4 letter numbers\n",
      "                    total += 4\n",
      "                if q == 3 or q == 7 or q == 8:#checks for 5 letter numbers\n",
      "                    total += 5\n",
      "            count +=1\n",
      "    return total\n",
      "        "
     ],
     "language": "python",
     "metadata": {},
     "outputs": [],
     "prompt_number": 172
    },
    {
     "cell_type": "code",
     "collapsed": false,
     "input": [
      "print NumLetterCount(1000)#and appears in 100, 200, ... 9 times so 3*9 = 27. Thus our answer is off by 27\n",
      "#print NumLetterCount(14)\n",
      "21124"
     ],
     "language": "python",
     "metadata": {},
     "outputs": [
      {
       "output_type": "stream",
       "stream": "stdout",
       "text": [
        "21251\n"
       ]
      },
      {
       "output_type": "pyout",
       "prompt_number": 202,
       "text": [
        "21124"
       ]
      }
     ],
     "prompt_number": 202
    },
    {
     "cell_type": "code",
     "collapsed": false,
     "input": [
      "store = False\n",
      "if store:\n",
      "    print 'aa'"
     ],
     "language": "python",
     "metadata": {},
     "outputs": [],
     "prompt_number": 161
    },
    {
     "cell_type": "code",
     "collapsed": false,
     "input": [],
     "language": "python",
     "metadata": {},
     "outputs": [],
     "prompt_number": 134
    }
   ],
   "metadata": {}
  }
 ]
}