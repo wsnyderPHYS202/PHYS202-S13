{
 "metadata": {
  "name": "NumpyEx1.2"
 },
 "nbformat": 3,
 "nbformat_minor": 0,
 "worksheets": [
  {
   "cells": [
    {
     "cell_type": "markdown",
     "metadata": {},
     "source": [
      "#Numpy Exercises 1\n",
      "\n",
      "###Problem 1"
     ]
    },
    {
     "cell_type": "code",
     "collapsed": false,
     "input": [
      "a = np.array([[1,1,1,1],[1,1,1,1],[1,1,1,2],[1,6,1,1]])"
     ],
     "language": "python",
     "metadata": {},
     "outputs": [],
     "prompt_number": 3
    },
    {
     "cell_type": "code",
     "collapsed": false,
     "input": [
      "a"
     ],
     "language": "python",
     "metadata": {},
     "outputs": [
      {
       "output_type": "pyout",
       "prompt_number": 4,
       "text": [
        "array([[1, 1, 1, 1],\n",
        "       [1, 1, 1, 1],\n",
        "       [1, 1, 1, 2],\n",
        "       [1, 6, 1, 1]])"
       ]
      }
     ],
     "prompt_number": 4
    },
    {
     "cell_type": "code",
     "collapsed": false,
     "input": [
      "b = np.diag(np.array([2.,3.,4.,5.,6.]))\n",
      "c = np.array([0.,0.,0.,0.,0.])"
     ],
     "language": "python",
     "metadata": {},
     "outputs": [],
     "prompt_number": 4
    },
    {
     "cell_type": "code",
     "collapsed": false,
     "input": [
      "b"
     ],
     "language": "python",
     "metadata": {},
     "outputs": [
      {
       "output_type": "pyout",
       "prompt_number": 5,
       "text": [
        "array([[ 2.,  0.,  0.,  0.,  0.],\n",
        "       [ 0.,  3.,  0.,  0.,  0.],\n",
        "       [ 0.,  0.,  4.,  0.,  0.],\n",
        "       [ 0.,  0.,  0.,  5.,  0.],\n",
        "       [ 0.,  0.,  0.,  0.,  6.]])"
       ]
      }
     ],
     "prompt_number": 5
    },
    {
     "cell_type": "code",
     "collapsed": false,
     "input": [
      "c = vstack((c,b))"
     ],
     "language": "python",
     "metadata": {},
     "outputs": [],
     "prompt_number": 6
    },
    {
     "cell_type": "code",
     "collapsed": false,
     "input": [
      "c"
     ],
     "language": "python",
     "metadata": {},
     "outputs": [
      {
       "output_type": "pyout",
       "prompt_number": 7,
       "text": [
        "array([[ 0.,  0.,  0.,  0.,  0.],\n",
        "       [ 2.,  0.,  0.,  0.,  0.],\n",
        "       [ 0.,  3.,  0.,  0.,  0.],\n",
        "       [ 0.,  0.,  4.,  0.,  0.],\n",
        "       [ 0.,  0.,  0.,  5.,  0.],\n",
        "       [ 0.,  0.,  0.,  0.,  6.]])"
       ]
      }
     ],
     "prompt_number": 7
    },
    {
     "cell_type": "markdown",
     "metadata": {},
     "source": [
      "###Problem 2"
     ]
    },
    {
     "cell_type": "code",
     "collapsed": false,
     "input": [
      "d = np.array([[4,3],[2,1]])"
     ],
     "language": "python",
     "metadata": {},
     "outputs": [],
     "prompt_number": 65
    },
    {
     "cell_type": "code",
     "collapsed": false,
     "input": [
      "e = np.tile(d,(2,2))"
     ],
     "language": "python",
     "metadata": {},
     "outputs": [],
     "prompt_number": 68
    },
    {
     "cell_type": "code",
     "collapsed": false,
     "input": [
      "e"
     ],
     "language": "python",
     "metadata": {},
     "outputs": [
      {
       "output_type": "pyout",
       "prompt_number": 69,
       "text": [
        "array([[4, 3, 4, 3],\n",
        "       [2, 1, 2, 1],\n",
        "       [4, 3, 4, 3],\n",
        "       [2, 1, 2, 1]])"
       ]
      }
     ],
     "prompt_number": 69
    },
    {
     "cell_type": "markdown",
     "metadata": {},
     "source": [
      "###Problem 3"
     ]
    },
    {
     "cell_type": "markdown",
     "metadata": {},
     "source": [
      "####(a)"
     ]
    },
    {
     "cell_type": "code",
     "collapsed": false,
     "input": [
      "is_prime = np.ones((100,), dtype=bool)\n",
      "is_prime"
     ],
     "language": "python",
     "metadata": {},
     "outputs": [
      {
       "output_type": "pyout",
       "prompt_number": 2,
       "text": [
        "array([ True,  True,  True,  True,  True,  True,  True,  True,  True,\n",
        "        True,  True,  True,  True,  True,  True,  True,  True,  True,\n",
        "        True,  True,  True,  True,  True,  True,  True,  True,  True,\n",
        "        True,  True,  True,  True,  True,  True,  True,  True,  True,\n",
        "        True,  True,  True,  True,  True,  True,  True,  True,  True,\n",
        "        True,  True,  True,  True,  True,  True,  True,  True,  True,\n",
        "        True,  True,  True,  True,  True,  True,  True,  True,  True,\n",
        "        True,  True,  True,  True,  True,  True,  True,  True,  True,\n",
        "        True,  True,  True,  True,  True,  True,  True,  True,  True,\n",
        "        True,  True,  True,  True,  True,  True,  True,  True,  True,\n",
        "        True,  True,  True,  True,  True,  True,  True,  True,  True,  True], dtype=bool)"
       ]
      }
     ],
     "prompt_number": 2
    },
    {
     "cell_type": "markdown",
     "metadata": {},
     "source": [
      "####(b)"
     ]
    },
    {
     "cell_type": "code",
     "collapsed": false,
     "input": [
      "is_prime[0] = False\n",
      "is_prime[1] = False"
     ],
     "language": "python",
     "metadata": {},
     "outputs": [],
     "prompt_number": 3
    },
    {
     "cell_type": "markdown",
     "metadata": {},
     "source": [
      "####(c)"
     ]
    },
    {
     "cell_type": "code",
     "collapsed": false,
     "input": [
      "N_max = int(np.sqrt(len(is_prime)))\n",
      "for j in range(2, N_max):\n",
      "    is_prime[2*j::j] = False"
     ],
     "language": "python",
     "metadata": {},
     "outputs": [],
     "prompt_number": 13
    },
    {
     "cell_type": "markdown",
     "metadata": {},
     "source": [
      "#####The slicing will take every multiple of j and set them to false. The loops moves j from 2 to N_max."
     ]
    },
    {
     "cell_type": "markdown",
     "metadata": {},
     "source": [
      "####(d)"
     ]
    },
    {
     "cell_type": "code",
     "collapsed": false,
     "input": [
      "np.nonzero(is_prime)"
     ],
     "language": "python",
     "metadata": {},
     "outputs": [
      {
       "output_type": "pyout",
       "prompt_number": 14,
       "text": [
        "(array([ 2,  3,  5,  7, 11, 13, 17, 19, 23, 29, 31, 37, 41, 43, 47, 53, 59,\n",
        "       61, 67, 71, 73, 79, 83, 89, 97]),)"
       ]
      }
     ],
     "prompt_number": 14
    },
    {
     "cell_type": "markdown",
     "metadata": {},
     "source": [
      "####(e)"
     ]
    },
    {
     "cell_type": "code",
     "collapsed": false,
     "input": [
      "def eratosthenes_sieve(maximum):\n",
      "    a = [False, False]\n",
      "    for q in range(2, int(np.sqrt(maximum))):\n",
      "        \n",
      "    "
     ],
     "language": "python",
     "metadata": {},
     "outputs": []
    }
   ],
   "metadata": {}
  }
 ]
}