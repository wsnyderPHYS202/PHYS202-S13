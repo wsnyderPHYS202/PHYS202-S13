{
 "metadata": {
  "name": "Integration"
 },
 "nbformat": 3,
 "nbformat_minor": 0,
 "worksheets": [
  {
   "cells": [
    {
     "cell_type": "markdown",
     "metadata": {},
     "source": [
      "##Numerical Integration"
     ]
    },
    {
     "cell_type": "markdown",
     "metadata": {},
     "source": [
      "###Ex. 1"
     ]
    },
    {
     "cell_type": "code",
     "collapsed": false,
     "input": [
      "def TrapezoidalRule(a,b,N):\n",
      "    f = lambda x:x**4 -2*x +1\n",
      "    \n",
      "    h = (b-a)/N\n",
      "    s = 0.5*f(a)+0.5*f(b)\n",
      "    for k in range(1,N):\n",
      "        s += f(a+k*h)\n",
      "    return (h*s)"
     ],
     "language": "python",
     "metadata": {},
     "outputs": [],
     "prompt_number": 47
    },
    {
     "cell_type": "code",
     "collapsed": false,
     "input": [
      "print TrapezoidalRule(0.0,2.0,10)\n",
      "print TrapezoidalRule(0.0,2.0,100)\n",
      "print TrapezoidalRule(0.0,2.0,1000)"
     ],
     "language": "python",
     "metadata": {},
     "outputs": [
      {
       "output_type": "stream",
       "stream": "stdout",
       "text": [
        "4.50656\n",
        "4.401066656\n",
        "4.40001066667\n"
       ]
      }
     ],
     "prompt_number": 48
    },
    {
     "cell_type": "heading",
     "level": 3,
     "metadata": {},
     "source": [
      "Ex. 2"
     ]
    },
    {
     "cell_type": "heading",
     "level": 4,
     "metadata": {},
     "source": [
      "(a)"
     ]
    },
    {
     "cell_type": "code",
     "collapsed": false,
     "input": [
      "def SimpsonsRule(a,b,slices):\n",
      "    \"\"\"Takes start point endpoint and the number of slices\"\"\"\n",
      "    if(slices % 2 != 0):\n",
      "        print \"Slices must be even\"\n",
      "        return NaN\n",
      "        \n",
      "    f =lambda x2: (x2**4) - 2*x2 + 1\n",
      "    \n",
      "    h = abs(a-b)/slices\n",
      "    loopNum = slices/2\n",
      "    sum1 = 0\n",
      "    sum2 = 0\n",
      "    \n",
      "    for k in range(1,loopNum + 1):\n",
      "        sum1 += f(a+(2*k-1)*h)\n",
      "        if (k < (loopNum)):\n",
      "            sum2 += f(a +2*k*h)\n",
      "    \n",
      "    area = (h/3)*(f(a) + f(b) + 4*sum1 + 2*sum2)\n",
      "    \n",
      "    return area\n",
      "    "
     ],
     "language": "python",
     "metadata": {},
     "outputs": [],
     "prompt_number": 49
    },
    {
     "cell_type": "code",
     "collapsed": false,
     "input": [
      "print SimpsonsRule(0.0,2.0, 10)"
     ],
     "language": "python",
     "metadata": {},
     "outputs": [
      {
       "output_type": "stream",
       "stream": "stdout",
       "text": [
        "4.40042666667\n"
       ]
      }
     ],
     "prompt_number": 50
    },
    {
     "cell_type": "heading",
     "level": 4,
     "metadata": {},
     "source": [
      "(b)"
     ]
    },
    {
     "cell_type": "code",
     "collapsed": false,
     "input": [
      "code = SimpsonsRule(0.0,2.0, 10)\n",
      "known = 4.4\n",
      "percent_error = 100*(abs(code-known)/known)\n",
      "print percent_error, '%'"
     ],
     "language": "python",
     "metadata": {},
     "outputs": [
      {
       "output_type": "stream",
       "stream": "stdout",
       "text": [
        "0.00969696969697 %\n"
       ]
      }
     ],
     "prompt_number": 51
    },
    {
     "cell_type": "heading",
     "level": 4,
     "metadata": {},
     "source": [
      "(c)"
     ]
    },
    {
     "cell_type": "code",
     "collapsed": false,
     "input": [
      "#Simpsons Error\n",
      "code = SimpsonsRule(0.0,2.0, 100)\n",
      "known = 4.4\n",
      "percent_error = 100*(abs(code-known)/known)\n",
      "print percent_error, '%'\n",
      "\n",
      "#Trapezoidal Error\n",
      "code = TrapezoidalRule(0.0,2.0,100)\n",
      "known = 4.4\n",
      "percent_error = 100*(abs(code-known)/known)\n",
      "print percent_error, '%'"
     ],
     "language": "python",
     "metadata": {},
     "outputs": [
      {
       "output_type": "stream",
       "stream": "stdout",
       "text": [
        "9.69696989372e-07 %\n",
        "0.0242421818182 %\n"
       ]
      }
     ],
     "prompt_number": 52
    },
    {
     "cell_type": "code",
     "collapsed": false,
     "input": [
      "#Simpsons Error\n",
      "code = SimpsonsRule(0.0,2.0, 1000)\n",
      "known = 4.4\n",
      "percent_error = 100*(abs(code-known)/known)\n",
      "print percent_error, '%'\n",
      "\n",
      "#Trapezoidal Error\n",
      "code = TrapezoidalRule(0.0,2.0,1000)\n",
      "known = 4.4\n",
      "percent_error = 100*(abs(code-known)/known)\n",
      "print percent_error, '%'"
     ],
     "language": "python",
     "metadata": {},
     "outputs": [
      {
       "output_type": "stream",
       "stream": "stdout",
       "text": [
        "9.69729347327e-11 %\n",
        "0.000242424218195 %\n"
       ]
      }
     ],
     "prompt_number": 53
    },
    {
     "cell_type": "heading",
     "level": 3,
     "metadata": {},
     "source": [
      "Ex. 3"
     ]
    },
    {
     "cell_type": "code",
     "collapsed": false,
     "input": [
      "import scipy.integrate as integrate"
     ],
     "language": "python",
     "metadata": {},
     "outputs": [],
     "prompt_number": 54
    },
    {
     "cell_type": "heading",
     "level": 4,
     "metadata": {},
     "source": [
      "(a)"
     ]
    },
    {
     "cell_type": "code",
     "collapsed": false,
     "input": [
      "data = loadtxt(\"velocities.txt\",float)\n",
      "#print data\n",
      "new_data = []\n",
      "for q in range(0,101):\n",
      "    new_data = append(new_data,data[q][1])\n",
      "#print new_data\n",
      "time_data = []\n",
      "for q in range(0,101):\n",
      "    time_data = append(time_data,data[q][0])\n",
      "#print time_data\n",
      "\n",
      "function = lambda c: new_data[c]"
     ],
     "language": "python",
     "metadata": {},
     "outputs": [],
     "prompt_number": 78
    },
    {
     "cell_type": "code",
     "collapsed": false,
     "input": [
      "trap_result = integrate.trapz(new_data)\n",
      "simp_result = integrate.simps(new_data)\n",
      "romb_result = integrate.romberg(function,0,100)\n",
      "print trap_result\n",
      "print simp_result\n",
      "print romb_result\n",
      "my_result"
     ],
     "language": "python",
     "metadata": {},
     "outputs": [
      {
       "output_type": "stream",
       "stream": "stdout",
       "text": [
        "8.218924\n",
        "8.22269\n",
        "8.05271525518\n"
       ]
      }
     ],
     "prompt_number": 56
    },
    {
     "cell_type": "heading",
     "level": 4,
     "metadata": {},
     "source": [
      "(b)"
     ]
    },
    {
     "cell_type": "code",
     "collapsed": false,
     "input": [
      "print 'trap-simp result:',abs(trap_result - simp_result)\n",
      "print 'trap-romb result:',abs(trap_result - romb_result)\n",
      "print 'simp-romb result:',abs(romb_result - simp_result)"
     ],
     "language": "python",
     "metadata": {},
     "outputs": [
      {
       "output_type": "stream",
       "stream": "stdout",
       "text": [
        "trap-simp result: 0.003766\n",
        "trap-romb result: 0.166208744822\n",
        "simp-romb result: 0.169974744822\n"
       ]
      }
     ],
     "prompt_number": 57
    },
    {
     "cell_type": "heading",
     "level": 4,
     "metadata": {},
     "source": [
      "(c)"
     ]
    },
    {
     "cell_type": "code",
     "collapsed": false,
     "input": [
      "f = lambda x:new_data[x]\n",
      "a = 0.0\n",
      "N = 101\n",
      "other_data = []\n",
      "for q in range(101):\n",
      "    b = q\n",
      "    h = abs(b-a)/N\n",
      "    s = 0.5*f(a)+0.5*f(b)\n",
      "    for k in range(1,N):\n",
      "        s += f(a+k*h)\n",
      "    other_data = append(other_data, h*s)\n",
      "#print other, other.size"
     ],
     "language": "python",
     "metadata": {},
     "outputs": [],
     "prompt_number": 120
    },
    {
     "cell_type": "code",
     "collapsed": false,
     "input": [
      "figure(figsize = (8,6))\n",
      "plot(time_data, new_data, color = 'b', label = 'Original Data')\n",
      "plot(time_data, other_data, color = 'r', label = 'Integrated Data')\n",
      "xlabel(\"$Time (s)$\", fontsize = 16)\n",
      "ylabel(\"$Velocity(blue)(m/s)$,  $Distance(red)(m)$\", fontsize = 16)\n",
      "\n",
      "grid(True)\n",
      "legend(loc = 'lower left')"
     ],
     "language": "python",
     "metadata": {},
     "outputs": [
      {
       "output_type": "pyout",
       "prompt_number": 131,
       "text": [
        "<matplotlib.legend.Legend at 0x7f41b8b3d6d0>"
       ]
      },
      {
       "output_type": "display_data",
       "png": "[encoded data removed]"
      }
     ],
     "prompt_number": 131
    },
    {
     "cell_type": "code",
     "collapsed": false,
     "input": [],
     "language": "python",
     "metadata": {},
     "outputs": [],
     "prompt_number": 117
    },
    {
     "cell_type": "code",
     "collapsed": false,
     "input": [],
     "language": "python",
     "metadata": {},
     "outputs": []
    },
    {
     "cell_type": "code",
     "collapsed": false,
     "input": [],
     "language": "python",
     "metadata": {},
     "outputs": []
    }
   ],
   "metadata": {}
  }
 ]
}