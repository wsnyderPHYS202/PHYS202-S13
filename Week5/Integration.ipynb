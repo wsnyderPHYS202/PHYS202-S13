{
 "metadata": {
  "name": "Integration"
 },
 "nbformat": 3,
 "nbformat_minor": 0,
 "worksheets": [
  {
   "cells": [
    {
     "cell_type": "markdown",
     "metadata": {},
     "source": [
      "##Numerical Integration"
     ]
    },
    {
     "cell_type": "markdown",
     "metadata": {},
     "source": [
      "###Ex. 1"
     ]
    },
    {
     "cell_type": "code",
     "collapsed": false,
     "input": [
      "def TrapezoidalRule(a,b,N):\n",
      "    f = lambda x:x**4 -2*x +1\n",
      "    \n",
      "    h = (b-a)/N\n",
      "    s = 0.5*f(a)+0.5*f(b)\n",
      "    for k in range(1,N):\n",
      "        s += f(a+k*h)\n",
      "    return (h*s)"
     ],
     "language": "python",
     "metadata": {},
     "outputs": [],
     "prompt_number": 18
    },
    {
     "cell_type": "code",
     "collapsed": false,
     "input": [
      "print TrapezoidalRule(0.0,2.0,10)\n",
      "print TrapezoidalRule(0.0,2.0,100)\n",
      "print TrapezoidalRule(0.0,2.0,1000)"
     ],
     "language": "python",
     "metadata": {},
     "outputs": [
      {
       "output_type": "stream",
       "stream": "stdout",
       "text": [
        "4.50656\n",
        "4.401066656\n",
        "4.40001066667\n"
       ]
      }
     ],
     "prompt_number": 19
    },
    {
     "cell_type": "heading",
     "level": 3,
     "metadata": {},
     "source": [
      "Ex. 2"
     ]
    },
    {
     "cell_type": "heading",
     "level": 4,
     "metadata": {},
     "source": [
      "(a)"
     ]
    },
    {
     "cell_type": "code",
     "collapsed": false,
     "input": [
      "def SimpsonsRule(a,b,slices):\n",
      "    \"\"\"Takes start point endpoint and the number of slices\"\"\"\n",
      "    if(slices % 2 != 0):\n",
      "        print \"Slices must be even\"\n",
      "        return NaN\n",
      "        \n",
      "    f =lambda x2: (x2**4) - 2*x2 + 1\n",
      "    \n",
      "    h = abs(a-b)/slices\n",
      "    loopNum = slices/2\n",
      "    sum1 = 0\n",
      "    sum2 = 0\n",
      "    \n",
      "    for k in range(1,loopNum + 1):\n",
      "        sum1 += f(a+(2*k-1)*h)\n",
      "        if (k < (loopNum)):\n",
      "            sum2 += f(a +2*k*h)\n",
      "    \n",
      "    area = (h/3)*(f(a) + f(b) + 4*sum1 + 2*sum2)\n",
      "    \n",
      "    return area\n",
      "    "
     ],
     "language": "python",
     "metadata": {},
     "outputs": [],
     "prompt_number": 131
    },
    {
     "cell_type": "code",
     "collapsed": false,
     "input": [
      "print SimpsonsRule(0.0,2.0, 10)"
     ],
     "language": "python",
     "metadata": {},
     "outputs": [
      {
       "output_type": "stream",
       "stream": "stdout",
       "text": [
        "4.40042666667\n"
       ]
      }
     ],
     "prompt_number": 132
    },
    {
     "cell_type": "heading",
     "level": 4,
     "metadata": {},
     "source": [
      "(b)"
     ]
    },
    {
     "cell_type": "code",
     "collapsed": false,
     "input": [
      "code = SimpsonsRule(0.0,2.0, 10)\n",
      "known = 4.4\n",
      "percent_error = 100*(abs(code-known)/known)\n",
      "print percent_error, '%'"
     ],
     "language": "python",
     "metadata": {},
     "outputs": [
      {
       "output_type": "stream",
       "stream": "stdout",
       "text": [
        "0.00969696969697 %\n"
       ]
      }
     ],
     "prompt_number": 135
    },
    {
     "cell_type": "heading",
     "level": 4,
     "metadata": {},
     "source": [
      "(c)"
     ]
    },
    {
     "cell_type": "code",
     "collapsed": false,
     "input": [
      "#Simpsons Error\n",
      "code = SimpsonsRule(0.0,2.0, 100)\n",
      "known = 4.4\n",
      "percent_error = 100*(abs(code-known)/known)\n",
      "print percent_error, '%'\n",
      "\n",
      "#Trapezoidal Error\n",
      "code = TrapezoidalRule(0.0,2.0,100)\n",
      "known = 4.4\n",
      "percent_error = 100*(abs(code-known)/known)\n",
      "print percent_error, '%'"
     ],
     "language": "python",
     "metadata": {},
     "outputs": [
      {
       "output_type": "stream",
       "stream": "stdout",
       "text": [
        "9.69696989372e-07 %\n",
        "0.0242421818182 %\n"
       ]
      }
     ],
     "prompt_number": 139
    },
    {
     "cell_type": "code",
     "collapsed": false,
     "input": [
      "#Simpsons Error\n",
      "code = SimpsonsRule(0.0,2.0, 1000)\n",
      "known = 4.4\n",
      "percent_error = 100*(abs(code-known)/known)\n",
      "print percent_error, '%'\n",
      "\n",
      "#Trapezoidal Error\n",
      "code = TrapezoidalRule(0.0,2.0,1000)\n",
      "known = 4.4\n",
      "percent_error = 100*(abs(code-known)/known)\n",
      "print percent_error, '%'"
     ],
     "language": "python",
     "metadata": {},
     "outputs": [
      {
       "output_type": "stream",
       "stream": "stdout",
       "text": [
        "9.69729347327e-11 %\n",
        "0.000242424218195 %\n"
       ]
      }
     ],
     "prompt_number": 140
    },
    {
     "cell_type": "heading",
     "level": 3,
     "metadata": {},
     "source": [
      "Ex. 3"
     ]
    },
    {
     "cell_type": "code",
     "collapsed": false,
     "input": [],
     "language": "python",
     "metadata": {},
     "outputs": []
    }
   ],
   "metadata": {}
  }
 ]
}