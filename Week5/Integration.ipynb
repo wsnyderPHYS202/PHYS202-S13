{
 "metadata": {
  "name": "Integration"
 },
 "nbformat": 3,
 "nbformat_minor": 0,
 "worksheets": [
  {
   "cells": [
    {
     "cell_type": "markdown",
     "metadata": {},
     "source": [
      "##Numerical Integration"
     ]
    },
    {
     "cell_type": "markdown",
     "metadata": {},
     "source": [
      "###Ex. 1"
     ]
    },
    {
     "cell_type": "code",
     "collapsed": false,
     "input": [
      "def TrapezoidalRule(a,b,N):\n",
      "    f = lambda x:x**4 -2*x +1\n",
      "    \n",
      "    h = (b-a)/N\n",
      "    s = 0.5*f(a)+0.5*f(b)\n",
      "    for k in range(1,N):\n",
      "        s += f(a+k*h)\n",
      "    return (h*s)"
     ],
     "language": "python",
     "metadata": {},
     "outputs": [],
     "prompt_number": 20
    },
    {
     "cell_type": "code",
     "collapsed": false,
     "input": [
      "print TrapezoidalRule(0.0,2.0,10)\n",
      "print TrapezoidalRule(0.0,2.0,100)\n",
      "print TrapezoidalRule(0.0,2.0,1000)"
     ],
     "language": "python",
     "metadata": {},
     "outputs": [
      {
       "output_type": "stream",
       "stream": "stdout",
       "text": [
        "4.50656\n",
        "4.401066656\n",
        "4.40001066667\n"
       ]
      }
     ],
     "prompt_number": 21
    },
    {
     "cell_type": "heading",
     "level": 3,
     "metadata": {},
     "source": [
      "Ex. 2"
     ]
    },
    {
     "cell_type": "code",
     "collapsed": false,
     "input": [
      "def SimpsonsRule(a,b,slices):\n",
      "    f =lambda x2: (x2**2) - 2*x2 +1\n",
      "    \n",
      "    h = abs(a-b)/slices\n",
      "    loopRange = arange(a, b + h, h)\n",
      "    #print loopRange[1:-1]\n",
      "    sum1 = 0\n",
      "    sum2 = 0\n",
      "    for k in loopRange[1:-1]:\n",
      "        sum1 += f(a+(2*k-1)*h)\n",
      "        if (k <= (slices-1)):\n",
      "            sum2 += f(a +2*k*h)\n",
      "    area = (h/3)*(f(a) + f(b) + 4*sum1 + 2*sum2)\n",
      "    return area\n",
      "    "
     ],
     "language": "python",
     "metadata": {},
     "outputs": [],
     "prompt_number": 85
    },
    {
     "cell_type": "code",
     "collapsed": false,
     "input": [
      "print SimpsonsRule(0.0,2.0, 10)"
     ],
     "language": "python",
     "metadata": {},
     "outputs": [
      {
       "output_type": "stream",
       "stream": "stdout",
       "text": [
        "[ 0.2  0.4  0.6  0.8  1.   1.2  1.4  1.6  1.8]\n",
        "2.25493333333\n"
       ]
      }
     ],
     "prompt_number": 84
    },
    {
     "cell_type": "code",
     "collapsed": false,
     "input": [],
     "language": "python",
     "metadata": {},
     "outputs": []
    }
   ],
   "metadata": {}
  }
 ]
}