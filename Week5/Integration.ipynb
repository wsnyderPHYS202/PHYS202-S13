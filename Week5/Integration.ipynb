{
 "metadata": {
  "name": "Integration"
 },
 "nbformat": 3,
 "nbformat_minor": 0,
 "worksheets": [
  {
   "cells": [
    {
     "cell_type": "markdown",
     "metadata": {},
     "source": [
      "##Numerical Integration"
     ]
    },
    {
     "cell_type": "markdown",
     "metadata": {},
     "source": [
      "###Ex. 1"
     ]
    },
    {
     "cell_type": "code",
     "collapsed": false,
     "input": [
      "def TrapezoidalRule(a,b,N):\n",
      "    f = lambda x:x**4 -2*x +1\n",
      "    \n",
      "    h = (b-a)/N\n",
      "    s = 0.5*f(a)+0.5*f(b)\n",
      "    for k in range(1,N):\n",
      "        s += f(a+k*h)\n",
      "    return (h*s)"
     ],
     "language": "python",
     "metadata": {},
     "outputs": [],
     "prompt_number": 18
    },
    {
     "cell_type": "code",
     "collapsed": false,
     "input": [
      "print TrapezoidalRule(0.0,2.0,10)\n",
      "print TrapezoidalRule(0.0,2.0,100)\n",
      "print TrapezoidalRule(0.0,2.0,1000)"
     ],
     "language": "python",
     "metadata": {},
     "outputs": [
      {
       "output_type": "stream",
       "stream": "stdout",
       "text": [
        "4.50656\n",
        "4.401066656\n",
        "4.40001066667\n"
       ]
      }
     ],
     "prompt_number": 19
    },
    {
     "cell_type": "heading",
     "level": 3,
     "metadata": {},
     "source": [
      "Ex. 2"
     ]
    },
    {
     "cell_type": "heading",
     "level": 4,
     "metadata": {},
     "source": [
      "(a)"
     ]
    },
    {
     "cell_type": "code",
     "collapsed": false,
     "input": [
      "def SimpsonsRule(a,b,slices):\n",
      "    \"\"\"Takes start point endpoint and the number of slices\"\"\"\n",
      "    if(slices % 2 != 0):\n",
      "        print \"Slices must be even\"\n",
      "        return NaN\n",
      "        \n",
      "    f =lambda x2: (x2**4) - 2*x2 + 1\n",
      "    \n",
      "    h = abs(a-b)/slices\n",
      "    loopNum = slices/2\n",
      "    sum1 = 0\n",
      "    sum2 = 0\n",
      "    \n",
      "    for k in range(1,loopNum + 1):\n",
      "        sum1 += f(a+(2*k-1)*h)\n",
      "        if (k < (loopNum)):\n",
      "            sum2 += f(a +2*k*h)\n",
      "    \n",
      "    area = (h/3)*(f(a) + f(b) + 4*sum1 + 2*sum2)\n",
      "    \n",
      "    return area\n",
      "    "
     ],
     "language": "python",
     "metadata": {},
     "outputs": [],
     "prompt_number": 131
    },
    {
     "cell_type": "code",
     "collapsed": false,
     "input": [
      "print SimpsonsRule(0.0,2.0, 10)"
     ],
     "language": "python",
     "metadata": {},
     "outputs": [
      {
       "output_type": "stream",
       "stream": "stdout",
       "text": [
        "4.40042666667\n"
       ]
      }
     ],
     "prompt_number": 132
    },
    {
     "cell_type": "heading",
     "level": 4,
     "metadata": {},
     "source": [
      "(b)"
     ]
    },
    {
     "cell_type": "code",
     "collapsed": false,
     "input": [
      "code = SimpsonsRule(0.0,2.0, 10)\n",
      "known = 4.4\n",
      "percent_error = 100*(abs(code-known)/known)\n",
      "print percent_error, '%'"
     ],
     "language": "python",
     "metadata": {},
     "outputs": [
      {
       "output_type": "stream",
       "stream": "stdout",
       "text": [
        "0.00969696969697 %\n"
       ]
      }
     ],
     "prompt_number": 135
    },
    {
     "cell_type": "heading",
     "level": 4,
     "metadata": {},
     "source": [
      "(c)"
     ]
    },
    {
     "cell_type": "code",
     "collapsed": false,
     "input": [
      "#Simpsons Error\n",
      "code = SimpsonsRule(0.0,2.0, 100)\n",
      "known = 4.4\n",
      "percent_error = 100*(abs(code-known)/known)\n",
      "print percent_error, '%'\n",
      "\n",
      "#Trapezoidal Error\n",
      "code = TrapezoidalRule(0.0,2.0,100)\n",
      "known = 4.4\n",
      "percent_error = 100*(abs(code-known)/known)\n",
      "print percent_error, '%'"
     ],
     "language": "python",
     "metadata": {},
     "outputs": [
      {
       "output_type": "stream",
       "stream": "stdout",
       "text": [
        "9.69696989372e-07 %\n",
        "0.0242421818182 %\n"
       ]
      }
     ],
     "prompt_number": 139
    },
    {
     "cell_type": "code",
     "collapsed": false,
     "input": [
      "#Simpsons Error\n",
      "code = SimpsonsRule(0.0,2.0, 1000)\n",
      "known = 4.4\n",
      "percent_error = 100*(abs(code-known)/known)\n",
      "print percent_error, '%'\n",
      "\n",
      "#Trapezoidal Error\n",
      "code = TrapezoidalRule(0.0,2.0,1000)\n",
      "known = 4.4\n",
      "percent_error = 100*(abs(code-known)/known)\n",
      "print percent_error, '%'"
     ],
     "language": "python",
     "metadata": {},
     "outputs": [
      {
       "output_type": "stream",
       "stream": "stdout",
       "text": [
        "9.69729347327e-11 %\n",
        "0.000242424218195 %\n"
       ]
      }
     ],
     "prompt_number": 140
    },
    {
     "cell_type": "heading",
     "level": 3,
     "metadata": {},
     "source": [
      "Ex. 3"
     ]
    },
    {
     "cell_type": "code",
     "collapsed": false,
     "input": [
      "import scipy.integrate as integrate"
     ],
     "language": "python",
     "metadata": {},
     "outputs": [],
     "prompt_number": 1
    },
    {
     "cell_type": "heading",
     "level": 4,
     "metadata": {},
     "source": [
      "(a)"
     ]
    },
    {
     "cell_type": "code",
     "collapsed": false,
     "input": [
      "data = loadtxt(\"velocities.txt\",float)\n",
      "#print data\n",
      "new_data = []\n",
      "for q in range(0,101):\n",
      "    new_data = append(new_data,data[q][1])\n",
      "#print new_data\n",
      "thing = linspace(0.,100.,65)\n",
      "#print thing\n",
      "space = False\n",
      "count = 0\n",
      "romb_data = []\n",
      "for i in range(0,101):\n",
      "    count += 1\n",
      "    if(count % 3 == 0):\n",
      "        space = True\n",
      "    else:\n",
      "        space = False\n",
      "    if(not space):\n",
      "        romb_data = append(romb_data, new_data[i])\n",
      "print romb_data"
     ],
     "language": "python",
     "metadata": {},
     "outputs": [
      {
       "output_type": "stream",
       "stream": "stdout",
       "text": [
        "[ 0.        0.069478  0.204332  0.269083  0.391771  0.449167  0.554835\n",
        "  0.60267   0.687392  0.723961  0.784876  0.809032  0.844428  0.855608\n",
        "  0.864945  0.863172  0.847067  0.832926  0.793077  0.767666  0.706736\n",
        "  0.671603  0.593065  0.550118  0.458077  0.409488  0.308474  0.256576\n",
        "  0.15133   0.098509 -0.006228 -0.05764  -0.157338 -0.205163 -0.295685\n",
        " -0.337984 -0.415757 -0.450909 -0.513052 -0.539809 -0.584234 -0.601764\n",
        " -0.627235 -0.635136 -0.641289 -0.639596 -0.626922 -0.616085 -0.585872\n",
        " -0.56672  -0.52097  -0.494661 -0.43597  -0.403929 -0.335357 -0.299201\n",
        " -0.224114 -0.185575 -0.107492 -0.068339  0.009227  0.047268  0.12097\n",
        "  0.15629   0.223073  0.254244  0.311479  0.337308]\n"
       ]
      }
     ],
     "prompt_number": 97
    },
    {
     "cell_type": "code",
     "collapsed": false,
     "input": [
      "trap_result = integrate.trapz(new_data)\n",
      "simp_result = integrate.simps(new_data)\n",
      "romb_result = integrate.romb(romb_data)\n",
      "print trap_result\n",
      "print simp_result\n",
      "print romb_result"
     ],
     "language": "python",
     "metadata": {},
     "outputs": [
      {
       "output_type": "stream",
       "stream": "stdout",
       "text": [
        "8.218924\n",
        "8.22269\n",
        "5.11740945808\n"
       ]
      }
     ],
     "prompt_number": 100
    },
    {
     "cell_type": "code",
     "collapsed": false,
     "input": [],
     "language": "python",
     "metadata": {},
     "outputs": [],
     "prompt_number": 96
    },
    {
     "cell_type": "code",
     "collapsed": false,
     "input": [],
     "language": "python",
     "metadata": {},
     "outputs": [],
     "prompt_number": 80
    },
    {
     "cell_type": "code",
     "collapsed": false,
     "input": [],
     "language": "python",
     "metadata": {},
     "outputs": []
    }
   ],
   "metadata": {}
  }
 ]
}