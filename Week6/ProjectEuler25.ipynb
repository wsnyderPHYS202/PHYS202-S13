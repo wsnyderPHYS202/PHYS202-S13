{
 "metadata": {
  "name": "ProjectEuler25"
 },
 "nbformat": 3,
 "nbformat_minor": 0,
 "worksheets": [
  {
   "cells": [
    {
     "cell_type": "markdown",
     "metadata": {},
     "source": [
      "##1000-digit Fibonacci number\n",
      "###Problem 25\n",
      "\n",
      "The Fibonacci sequence is defined by the recurrence relation:\n",
      "\n",
      "Fn = Fn1 + Fn2, where F1 = 1 and F2 = 1.\n",
      "Hence the first 12 terms will be:\n",
      "\n",
      "F1 = 1\n",
      "F2 = 1\n",
      "F3 = 2\n",
      "F4 = 3\n",
      "F5 = 5\n",
      "F6 = 8\n",
      "F7 = 13\n",
      "F8 = 21\n",
      "F9 = 34\n",
      "F10 = 55\n",
      "F11 = 89\n",
      "F12 = 144\n",
      "The 12th term, F12, is the first term to contain three digits.\n",
      "\n",
      "What is the first term in the Fibonacci sequence to contain 1000 digits?"
     ]
    },
    {
     "cell_type": "code",
     "collapsed": false,
     "input": [
      "def FibDigits(n):\n",
      "    \"\"\"Tell the function how many digits you want, and it will return the first number with that many digits\"\"\"\n",
      "    if n <= 0:\n",
      "        return \"Input must be greater thatn zero\"\n",
      "    if n == 1:\n",
      "        return 1\n",
      "    else:\n",
      "        prev = 1\n",
      "        current = 1 \n",
      "        nxt = 2\n",
      "        count = 2\n",
      "        while q > -1:\n",
      "            nxt = current + prev #finding the next number\n",
      "            prev = current #moving the numbers in the sequence up\n",
      "            current = nxt #moving the numbers in the sequence up\n",
      "            count += 1 #moves up the count\n",
      "            if len(str(nxt)) == n: #tests number length\n",
      "                break #stops the loop if it works\n",
      "            \n",
      "        return count\n",
      "    "
     ],
     "language": "python",
     "metadata": {},
     "outputs": [],
     "prompt_number": 101
    },
    {
     "cell_type": "code",
     "collapsed": false,
     "input": [
      "print \"The first term with 1 digit is term F\" + str(FibDigits(1))\n",
      "print \"The first term with 2 digits is term F\" + str(FibDigits(2))\n",
      "print \"The first term with 3 digits is term F\" + str(FibDigits(3))\n",
      "print \"The first term with 1000 digits is term F\" + str(FibDigits(1000))"
     ],
     "language": "python",
     "metadata": {},
     "outputs": [
      {
       "output_type": "stream",
       "stream": "stdout",
       "text": [
        "The first term with 1 digit is term F1\n",
        "The first term with 2 digits is term F7\n",
        "The first term with 3 digits is term F12\n",
        "The first term with 1000 digits is term F4782"
       ]
      },
      {
       "output_type": "stream",
       "stream": "stdout",
       "text": [
        "\n"
       ]
      }
     ],
     "prompt_number": 109
    },
    {
     "cell_type": "code",
     "collapsed": false,
     "input": [],
     "language": "python",
     "metadata": {},
     "outputs": [],
     "prompt_number": 107
    },
    {
     "cell_type": "code",
     "collapsed": false,
     "input": [],
     "language": "python",
     "metadata": {},
     "outputs": []
    }
   ],
   "metadata": {}
  }
 ]
}