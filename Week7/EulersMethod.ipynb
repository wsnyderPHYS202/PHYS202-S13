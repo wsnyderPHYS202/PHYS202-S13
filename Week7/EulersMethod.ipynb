{
 "metadata": {
  "name": "EulersMethod"
 },
 "nbformat": 3,
 "nbformat_minor": 0,
 "worksheets": [
  {
   "cells": [
    {
     "cell_type": "markdown",
     "metadata": {},
     "source": [
      "## Euler's Method"
     ]
    },
    {
     "cell_type": "markdown",
     "metadata": {},
     "source": [
      "###Ex. 1"
     ]
    },
    {
     "cell_type": "markdown",
     "metadata": {},
     "source": [
      "####(a)"
     ]
    },
    {
     "cell_type": "code",
     "collapsed": false,
     "input": [
      "Dt = 0.25   \n",
      "x1 = arange(0.,1.+Dt, Dt)\n",
      "\n",
      "ynxt = 0\n",
      "y = 0\n",
      "yarr1 = [0]\n",
      "\n",
      "for q in x1[1:]:\n",
      "    ynxt = y + q*Dt + 2*y*Dt\n",
      "    y = ynxt\n",
      "    yarr1 = append(yarr1, ynxt)\n",
      "\n",
      "print yarr1"
     ],
     "language": "python",
     "metadata": {},
     "outputs": [
      {
       "output_type": "stream",
       "stream": "stdout",
       "text": [
        "[ 0.         0.0625     0.21875    0.515625   1.0234375]\n"
       ]
      }
     ],
     "prompt_number": 50
    },
    {
     "cell_type": "code",
     "collapsed": false,
     "input": [
      "Dt = 0.02   \n",
      "x2 = arange(0.,1.+Dt, Dt)\n",
      "\n",
      "ynxt = 0\n",
      "y = 0\n",
      "yarr2 = [0]\n",
      "for q in x2[1:]:\n",
      "    ynxt = y + q*Dt + 2*y*Dt\n",
      "    y = ynxt\n",
      "    yarr2 = append(yarr2, ynxt)\n",
      "\n",
      "print yarr2"
     ],
     "language": "python",
     "metadata": {},
     "outputs": [
      {
       "output_type": "stream",
       "stream": "stdout",
       "text": [
        "[  0.00000000e+00   4.00000000e-04   1.21600000e-03   2.46464000e-03\n",
        "   4.16322560e-03   6.32975462e-03   8.98294481e-03   1.21422626e-02\n",
        "   1.58279531e-02   2.00610712e-02   2.48635141e-02   3.02580546e-02\n",
        "   3.62683768e-02   4.29191119e-02   5.02358764e-02   5.82453114e-02\n",
        "   6.69751239e-02   7.64541288e-02   8.67122940e-02   9.77807858e-02\n",
        "   1.09692017e-01   1.22479698e-01   1.36178886e-01   1.50826041e-01\n",
        "   1.66459083e-01   1.83117446e-01   2.00842144e-01   2.19675830e-01\n",
        "   2.39662863e-01   2.60849378e-01   2.83283353e-01   3.07014687e-01\n",
        "   3.32095274e-01   3.58579085e-01   3.86522249e-01   4.15983138e-01\n",
        "   4.47022464e-01   4.79703363e-01   5.14091497e-01   5.50255157e-01\n",
        "   5.88265363e-01   6.28195978e-01   6.70123817e-01   7.14128770e-01\n",
        "   7.60293920e-01   8.08705677e-01   8.59453904e-01   9.12632060e-01\n",
        "   9.68337343e-01   1.02667084e+00   1.08773767e+00]\n",
        "(51,) (51,)\n"
       ]
      }
     ],
     "prompt_number": 48
    },
    {
     "cell_type": "markdown",
     "metadata": {},
     "source": [
      "####(b)"
     ]
    },
    {
     "cell_type": "code",
     "collapsed": false,
     "input": [
      "plot(x1,yarr1)\n",
      "plot(x2,yarr2)\n",
      "xex = arange(0.,1.+0.001, 0.001)\n",
      "yex = 0.25*e**(2*xex)-0.5*xex-0.25\n",
      "plot(xex,yex)"
     ],
     "language": "python",
     "metadata": {},
     "outputs": [
      {
       "output_type": "pyout",
       "prompt_number": 55,
       "text": [
        "[<matplotlib.lines.Line2D at 0x10a8e57d0>]"
       ]
      },
      {
       "output_type": "display_data",
       "png": "[encoded data removed]"
      }
     ],
     "prompt_number": 55
    },
    {
     "cell_type": "code",
     "collapsed": false,
     "input": [],
     "language": "python",
     "metadata": {},
     "outputs": [],
     "prompt_number": 54
    },
    {
     "cell_type": "code",
     "collapsed": false,
     "input": [],
     "language": "python",
     "metadata": {},
     "outputs": []
    }
   ],
   "metadata": {}
  }
 ]
}