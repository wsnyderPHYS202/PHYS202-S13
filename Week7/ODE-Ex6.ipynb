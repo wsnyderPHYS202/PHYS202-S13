{
 "metadata": {
  "name": "ODE-Ex6"
 },
 "nbformat": 3,
 "nbformat_minor": 0,
 "worksheets": [
  {
   "cells": [
    {
     "cell_type": "markdown",
     "metadata": {},
     "source": [
      "##ODE-Ex6"
     ]
    },
    {
     "cell_type": "markdown",
     "metadata": {},
     "source": [
      "###Euler's Method"
     ]
    },
    {
     "cell_type": "markdown",
     "metadata": {},
     "source": [
      "####Ex1. (a)"
     ]
    },
    {
     "cell_type": "code",
     "collapsed": false,
     "input": [
      "Dt = 0.25   \n",
      "x1 = arange(0.,1.+Dt, Dt)\n",
      "\n",
      "ynxt = 0\n",
      "y = 0\n",
      "yarr1 = []\n",
      "\n",
      "for q in x1:\n",
      "    ynxt = y + (q + 2*y)*Dt\n",
      "    y = ynxt\n",
      "    yarr1 = append(yarr1, y)\n",
      "\n",
      "print yarr1"
     ],
     "language": "python",
     "metadata": {},
     "outputs": [
      {
       "output_type": "stream",
       "stream": "stdout",
       "text": [
        "[ 0.         0.0625     0.21875    0.515625   1.0234375]\n"
       ]
      }
     ],
     "prompt_number": 93
    },
    {
     "cell_type": "code",
     "collapsed": false,
     "input": [
      "Dt2 = 0.02   \n",
      "x2 = arange(0.,1.+Dt2, Dt2)\n",
      "\n",
      "ynxt2 = 0\n",
      "y2 = 0\n",
      "yarr2 = []\n",
      "for q in x2:\n",
      "    ynxt2 = y2 + q*Dt2 + 2*y2*Dt2\n",
      "    y2 = ynxt2\n",
      "    yarr2 = append(yarr2, y2)\n",
      "\n",
      "print yarr2"
     ],
     "language": "python",
     "metadata": {},
     "outputs": [
      {
       "output_type": "stream",
       "stream": "stdout",
       "text": [
        "[  0.00000000e+00   4.00000000e-04   1.21600000e-03   2.46464000e-03\n",
        "   4.16322560e-03   6.32975462e-03   8.98294481e-03   1.21422626e-02\n",
        "   1.58279531e-02   2.00610712e-02   2.48635141e-02   3.02580546e-02\n",
        "   3.62683768e-02   4.29191119e-02   5.02358764e-02   5.82453114e-02\n",
        "   6.69751239e-02   7.64541288e-02   8.67122940e-02   9.77807858e-02\n",
        "   1.09692017e-01   1.22479698e-01   1.36178886e-01   1.50826041e-01\n",
        "   1.66459083e-01   1.83117446e-01   2.00842144e-01   2.19675830e-01\n",
        "   2.39662863e-01   2.60849378e-01   2.83283353e-01   3.07014687e-01\n",
        "   3.32095274e-01   3.58579085e-01   3.86522249e-01   4.15983138e-01\n",
        "   4.47022464e-01   4.79703363e-01   5.14091497e-01   5.50255157e-01\n",
        "   5.88265363e-01   6.28195978e-01   6.70123817e-01   7.14128770e-01\n",
        "   7.60293920e-01   8.08705677e-01   8.59453904e-01   9.12632060e-01\n",
        "   9.68337343e-01   1.02667084e+00   1.08773767e+00]\n"
       ]
      }
     ],
     "prompt_number": 92
    },
    {
     "cell_type": "markdown",
     "metadata": {},
     "source": [
      "####(b)"
     ]
    },
    {
     "cell_type": "code",
     "collapsed": false,
     "input": [
      "xex = arange(0.,1.+0.001, 0.001)\n",
      "yex = 0.25*e**(2*xex)-0.5*xex-0.25\n",
      "\n",
      "figure(figsize = (8,6))\n",
      "\n",
      "plot(x1,yarr1, color = 'b', linewidth = 2, label = 'Stepsize = 0.25')\n",
      "plot(x2,yarr2, color = 'k', linewidth = 2, label = 'Stepsize = 0.02')\n",
      "plot(xex,yex,color = 'r', linestyle = '--', linewidth = 2, label = 'Exact')\n",
      "\n",
      "legend(loc = 'upper left')\n",
      "show()"
     ],
     "language": "python",
     "metadata": {},
     "outputs": [
      {
       "output_type": "display_data",
       "png": "[encoded data removed]"
      }
     ],
     "prompt_number": 94
    },
    {
     "cell_type": "markdown",
     "metadata": {},
     "source": [
      "####(c)"
     ]
    },
    {
     "cell_type": "code",
     "collapsed": false,
     "input": [
      "#Euler-Cromer Method: Stepsize 0.25\n",
      "Dt1EC = 0.25\n",
      "x1EC = arange(0.,1.+Dt1EC, Dt1EC)\n",
      "\n",
      "ynxtEC = 0\n",
      "yEC = 0\n",
      "yn_plus = 0\n",
      "yarr1EC = [0,(yEC + x1EC[1]*DtEC)/(1 - 2*DtEC)]\n",
      "\n",
      "for q in x1EC[2:]:\n",
      "    #yn_plus = yEC + (q + 2*ynxtEC)*DtEC\n",
      "    ynxtEC = (yEC + q*DtEC)/(1 - 2*DtEC)\n",
      "    yEC = ynxtEC\n",
      "    yarr1EC = append(yarr1EC, yEC)\n",
      "    #print q, ynxtEC, yEC\n",
      "\n",
      "print yarr1EC"
     ],
     "language": "python",
     "metadata": {},
     "outputs": [
      {
       "output_type": "stream",
       "stream": "stdout",
       "text": [
        "[ 0.     0.125  0.25   0.875  2.25 ]\n"
       ]
      }
     ],
     "prompt_number": 97
    },
    {
     "cell_type": "code",
     "collapsed": false,
     "input": [],
     "language": "python",
     "metadata": {},
     "outputs": [],
     "prompt_number": 32
    },
    {
     "cell_type": "code",
     "collapsed": false,
     "input": [],
     "language": "python",
     "metadata": {},
     "outputs": []
    }
   ],
   "metadata": {}
  }
 ]
}