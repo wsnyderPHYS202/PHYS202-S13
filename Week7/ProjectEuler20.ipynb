{
 "metadata": {
  "name": "ProjectEuler20"
 },
 "nbformat": 3,
 "nbformat_minor": 0,
 "worksheets": [
  {
   "cells": [
    {
     "cell_type": "markdown",
     "metadata": {},
     "source": [
      "Factorial digit sum\n",
      "===================\n",
      "Problem 20\n",
      "----------\n",
      "n! means n  (n  1)  ...  3  2  1\n",
      "\n",
      "For example, 10! = 10  9  ...  3  2  1 = 3628800,\n",
      "and the sum of the digits in the number 10! is 3 + 6 + 2 + 8 + 8 + 0 + 0 = 27.\n",
      "\n",
      "Find the sum of the digits in the number 100!"
     ]
    },
    {
     "cell_type": "code",
     "collapsed": false,
     "input": [
      "def FactDigSum(num):\n",
      "    fact = math.factorial(num)#takes the factorial of the input\n",
      "    digs = str(fact)#turns the number(integer) into a string\n",
      "    tot = 0\n",
      "    for q in digs:#loops through each individual number in the string\n",
      "        tot += int(q)#turns wach number(string) back into an integer and adds it to tot\n",
      "    return tot\n"
     ],
     "language": "python",
     "metadata": {},
     "outputs": [],
     "prompt_number": 15
    },
    {
     "cell_type": "code",
     "collapsed": false,
     "input": [
      "print FactDigSum(10)#test case\n",
      "print FactDigSum(100)"
     ],
     "language": "python",
     "metadata": {},
     "outputs": [
      {
       "output_type": "stream",
       "stream": "stdout",
       "text": [
        "27\n",
        "648\n"
       ]
      }
     ],
     "prompt_number": 16
    }
   ],
   "metadata": {}
  }
 ]
}