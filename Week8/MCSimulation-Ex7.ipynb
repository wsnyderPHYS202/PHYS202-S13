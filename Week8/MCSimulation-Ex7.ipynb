{
 "metadata": {
  "name": "MCSimulation-Ex7"
 },
 "nbformat": 3,
 "nbformat_minor": 0,
 "worksheets": [
  {
   "cells": [
    {
     "cell_type": "markdown",
     "metadata": {},
     "source": [
      "##MCSimulation Ex-7"
     ]
    },
    {
     "cell_type": "markdown",
     "metadata": {},
     "source": [
      "###Ex.1"
     ]
    },
    {
     "cell_type": "markdown",
     "metadata": {},
     "source": [
      "See notebook titled RandNumMonteCarlo"
     ]
    },
    {
     "cell_type": "markdown",
     "metadata": {},
     "source": [
      "###Ex.2"
     ]
    },
    {
     "cell_type": "markdown",
     "metadata": {},
     "source": [
      "####(a)"
     ]
    },
    {
     "cell_type": "code",
     "collapsed": false,
     "input": [
      "f = lambda x: al*be**-al*x**(al-1)*e**-((x/be)**al)\n",
      "F = lambda x: ((1/be)**-al*(1-e**-((x/be)**al)))/al"
     ],
     "language": "python",
     "metadata": {},
     "outputs": [],
     "prompt_number": 1
    },
    {
     "cell_type": "markdown",
     "metadata": {},
     "source": [
      "####(b)"
     ]
    },
    {
     "cell_type": "code",
     "collapsed": false,
     "input": [
      "Finv = lambda z:(-log(1-(al/(be**al)*z)))**(1/al)"
     ],
     "language": "python",
     "metadata": {},
     "outputs": [],
     "prompt_number": 2
    },
    {
     "cell_type": "markdown",
     "metadata": {},
     "source": [
      "####(c)"
     ]
    },
    {
     "cell_type": "code",
     "collapsed": false,
     "input": [
      "def Weibull(N):\n",
      "    z = numpy.random.random_sample(N);\n",
      "\n",
      "    xsamples = Finv(z)\n",
      "    \n",
      "    return xsamples"
     ],
     "language": "python",
     "metadata": {},
     "outputs": [],
     "prompt_number": 3
    },
    {
     "cell_type": "markdown",
     "metadata": {},
     "source": [
      "####(d)"
     ]
    },
    {
     "cell_type": "code",
     "collapsed": false,
     "input": [
      "al = 1.5\n",
      "be = 6.\n",
      "W = Weibull(10000)*50\n",
      "x = arange(0,10+0.1, 0.1)\n",
      "\n",
      "figure(figsize = (8,6))\n",
      "           \n",
      "plot(x,f(x), color = 'g', label = 'True Distribution', lw = 2)\n",
      "plot(x,F(x), color = 'r', label = 'CDF Distribution', lw = 2)\n",
      "hist(W,50,normed = True,label = 'Samples distribution')\n",
      "\n",
      "xlim(0,10)\n",
      "legend(loc = 'best')\n",
      "show()"
     ],
     "language": "python",
     "metadata": {},
     "outputs": [
      {
       "output_type": "display_data",
       "png": "[encoded data removed]"
      }
     ],
     "prompt_number": 4
    },
    {
     "cell_type": "markdown",
     "metadata": {},
     "source": [
      "###Ex.3"
     ]
    },
    {
     "cell_type": "markdown",
     "metadata": {},
     "source": [
      "####(a)"
     ]
    },
    {
     "cell_type": "code",
     "collapsed": false,
     "input": [
      "f = lambda x: 60*x**3*(1-x)**2\n",
      "fmax = f(0.6)\n",
      "print fmax"
     ],
     "language": "python",
     "metadata": {},
     "outputs": [
      {
       "output_type": "stream",
       "stream": "stdout",
       "text": [
        "2.0736\n"
       ]
      }
     ],
     "prompt_number": 48
    },
    {
     "cell_type": "code",
     "collapsed": false,
     "input": [
      "x = arange(0.,1.01, 0.01)\n",
      "\n",
      "xmin = 0.01\n",
      "xmax = 0.999\n",
      "\n",
      "subx = x[logical_and((x>xmin),(x<xmax))]\n",
      "ymax = max(f(subx))*1.05\n",
      "ymin = 0."
     ],
     "language": "python",
     "metadata": {},
     "outputs": [],
     "prompt_number": 49
    },
    {
     "cell_type": "code",
     "collapsed": false,
     "input": [
      "N = 100000\n",
      "samples_x = xmin + (xmax - xmin)*random_sample(N);\n",
      "samples_y = ymin + (ymax - ymin)*random_sample(N);\n",
      "\n",
      "newmask = (samples_y < f(samples_x))"
     ],
     "language": "python",
     "metadata": {},
     "outputs": [],
     "prompt_number": 50
    },
    {
     "cell_type": "code",
     "collapsed": false,
     "input": [
      "thing = []\n",
      "count = 0\n",
      "for i in newmask:\n",
      "    if i:\n",
      "        thing = append(thing,samples_x[count])\n",
      "    count += 1\n",
      "#print thing"
     ],
     "language": "python",
     "metadata": {},
     "outputs": [],
     "prompt_number": 51
    },
    {
     "cell_type": "code",
     "collapsed": false,
     "input": [
      "def RejectionSampling(N,f):\n",
      "    x = arange(0.,1.01, 0.01)\n",
      "\n",
      "    xmin = 0.01\n",
      "    xmax = 0.999\n",
      "\n",
      "    subx = x[logical_and((x>xmin),(x<xmax))]\n",
      "    ymax = max(f(subx))*1.05\n",
      "    ymin = 0.\n",
      "    \n",
      "    samples_x = xmin + (xmax - xmin)*random_sample(N);\n",
      "    samples_y = ymin + (ymax - ymin)*random_sample(N);\n",
      "\n",
      "    newmask = (samples_y < f(samples_x))\n",
      "    \n",
      "    thing = []\n",
      "    count = 0\n",
      "    for i in newmask:\n",
      "        if i:\n",
      "            thing = append(thing,samples_x[count])\n",
      "        count += 1\n",
      "        \n",
      "    return thing"
     ],
     "language": "python",
     "metadata": {},
     "outputs": [],
     "prompt_number": 56
    },
    {
     "cell_type": "markdown",
     "metadata": {},
     "source": [
      "####(b)"
     ]
    },
    {
     "cell_type": "code",
     "collapsed": false,
     "input": [
      "rejPlot = RejectionSampling(10000,f)"
     ],
     "language": "python",
     "metadata": {},
     "outputs": [],
     "prompt_number": 57
    },
    {
     "cell_type": "code",
     "collapsed": false,
     "input": [
      "figure(figsize = (8,6))\n",
      "    \n",
      "hist(rejPlot,50,normed = True,label = 'Samples distribution')\n",
      "plot(x,f(x),label='True distribution',lw = 3, color = 'r')\n",
      "plot([xmin,xmin],[ymin,ymax], color = 'k', linestyle = '--')\n",
      "plot([xmax,xmax],[ymin,ymax], color = 'k', linestyle = '--')\n",
      "plot([xmin,xmax],[ymax,ymax], color = 'k', linestyle = '--')\n",
      "\n",
      "legend(loc = 0)\n",
      "show()"
     ],
     "language": "python",
     "metadata": {},
     "outputs": [
      {
       "output_type": "display_data",
       "png": "[encoded data removed]"
      }
     ],
     "prompt_number": 58
    },
    {
     "cell_type": "code",
     "collapsed": false,
     "input": [],
     "language": "python",
     "metadata": {},
     "outputs": []
    }
   ],
   "metadata": {}
  }
 ]
}