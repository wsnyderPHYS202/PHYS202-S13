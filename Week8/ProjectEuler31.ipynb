{
 "metadata": {
  "name": "ProjectEuler31"
 },
 "nbformat": 3,
 "nbformat_minor": 0,
 "worksheets": [
  {
   "cells": [
    {
     "cell_type": "markdown",
     "metadata": {},
     "source": [
      "Coin sums\n",
      "=========\n",
      "Problem 31\n",
      "----------\n",
      "In England the currency is made up of pound, \u00a3, and pence, p, and there are eight coins in general circulation:\n",
      "\n",
      "1p, 2p, 5p, 10p, 20p, 50p, \u00a31 (100p) and \u00a32 (200p).\n",
      "\n",
      "It is possible to make \u00a32 in the following way:\n",
      "\n",
      "1 \u00a31 + 1 50p + 2 20p + 1 5p + 1 2p + 3 1p\n",
      "\n",
      "How many different ways can \u00a32 be made using any number of coins?"
     ]
    },
    {
     "cell_type": "code",
     "collapsed": false,
     "input": [
      "coins = array([1,2,5,10,20,50,100,200])\n",
      "\n",
      "ctotal = 0\n",
      "preva = 0\n",
      "for a in coins[:2]:\n",
      "    dex = 1\n",
      "    counti = 0\n",
      "    mx = 200/a - 1\n",
      "    previ = 0\n",
      "    for i in coins[dex:]:\n",
      "        toti = 0\n",
      "        for q in range(mx,1,-1):\n",
      "            qa = q*a\n",
      "            if qa + toti == 200:\n",
      "                counti += 1\n",
      "            if ((200 + a)-(qa+toti))%i == 0:\n",
      "                toti += i\n",
      "            if ((200 + a)-(qa+toti))%previ == 0 and dex > 1:\n",
      "                while (200-(qa+toti)) > 0:\n",
      "                    toti += previ\n",
      "        previ = i\n",
      "    preva = a\n",
      "    print counti\n",
      "    dex += 1\n",
      "    ctotal += counti + 1\n",
      "print ctotal"
     ],
     "language": "python",
     "metadata": {},
     "outputs": [
      {
       "output_type": "stream",
       "stream": "stdout",
       "text": [
        "2\n",
        "5\n",
        "10\n",
        "20\n",
        "50\n",
        "100\n",
        "200\n",
        "170\n",
        "2\n",
        "5\n",
        "10\n",
        "20\n",
        "50\n",
        "100\n",
        "200\n",
        "32\n",
        "204\n"
       ]
      }
     ],
     "prompt_number": 18
    },
    {
     "cell_type": "code",
     "collapsed": false,
     "input": [],
     "language": "python",
     "metadata": {},
     "outputs": []
    },
    {
     "cell_type": "code",
     "collapsed": false,
     "input": [],
     "language": "python",
     "metadata": {},
     "outputs": [],
     "prompt_number": 9
    },
    {
     "cell_type": "code",
     "collapsed": false,
     "input": [],
     "language": "python",
     "metadata": {},
     "outputs": [],
     "prompt_number": 9
    },
    {
     "cell_type": "code",
     "collapsed": false,
     "input": [],
     "language": "python",
     "metadata": {},
     "outputs": []
    }
   ],
   "metadata": {}
  }
 ]
}