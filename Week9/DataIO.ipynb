{
 "metadata": {
  "name": "DataIO"
 },
 "nbformat": 3,
 "nbformat_minor": 0,
 "worksheets": [
  {
   "cells": [
    {
     "cell_type": "code",
     "collapsed": false,
     "input": [
      "DataIn = loadtxt('input.dat')\n",
      "print DataIn, DataIn.shape"
     ],
     "language": "python",
     "metadata": {},
     "outputs": [
      {
       "output_type": "stream",
       "stream": "stdout",
       "text": [
        "[[ 0.   1.1  0.1]\n",
        " [ 2.   1.9  0.2]\n",
        " [ 4.   3.2  0.1]\n",
        " [ 6.   4.   0.3]\n",
        " [ 8.   5.9  0.3]] (5, 3)\n"
       ]
      }
     ],
     "prompt_number": 4
    },
    {
     "cell_type": "code",
     "collapsed": false,
     "input": [
      "print DataIn[:,2]"
     ],
     "language": "python",
     "metadata": {},
     "outputs": [
      {
       "output_type": "stream",
       "stream": "stdout",
       "text": [
        "[ 0.1  0.2  0.1  0.3  0.3]\n"
       ]
      }
     ],
     "prompt_number": 6
    },
    {
     "cell_type": "code",
     "collapsed": false,
     "input": [
      "x, y, yerr = loadtxt('input.dat', unpack  = True)\n",
      "print x\n",
      "print y\n",
      "print yerr"
     ],
     "language": "python",
     "metadata": {},
     "outputs": [
      {
       "output_type": "stream",
       "stream": "stdout",
       "text": [
        "[ 0.  2.  4.  6.  8.]\n",
        "[ 1.1  1.9  3.2  4.   5.9]\n",
        "[ 0.1  0.2  0.1  0.3  0.3]\n"
       ]
      }
     ],
     "prompt_number": 14
    },
    {
     "cell_type": "code",
     "collapsed": false,
     "input": [
      "x, y = loadtxt('input.dat', unpack  = True, usecols=[0,1])\n",
      "print x\n",
      "print y"
     ],
     "language": "python",
     "metadata": {},
     "outputs": [
      {
       "output_type": "stream",
       "stream": "stdout",
       "text": [
        "[ 0.  2.  4.  6.  8.]\n",
        "[ 1.1  1.9  3.2  4.   5.9]\n"
       ]
      }
     ],
     "prompt_number": 9
    },
    {
     "cell_type": "code",
     "collapsed": false,
     "input": [
      "x, y = loadtxt('input.csv', unpack  = True, delimiter = ',', usecols=[0,1])\n",
      "print x,y"
     ],
     "language": "python",
     "metadata": {},
     "outputs": [
      {
       "output_type": "stream",
       "stream": "stdout",
       "text": [
        "[ 0.  2.  4.  6.  8.] [ 1.1  1.9  3.2  4.   5.9]\n"
       ]
      }
     ],
     "prompt_number": 15
    },
    {
     "cell_type": "code",
     "collapsed": false,
     "input": [
      "t = arange(0.0,1,0.1)\n",
      "v = array([0.137,0.456,0.591,0.713,0.859,0.926,1.139,1.327,1.512,1.875])\n",
      "print t\n",
      "print v"
     ],
     "language": "python",
     "metadata": {},
     "outputs": [
      {
       "output_type": "stream",
       "stream": "stdout",
       "text": [
        "[ 0.   0.1  0.2  0.3  0.4  0.5  0.6  0.7  0.8  0.9]\n",
        "[ 0.137  0.456  0.591  0.713  0.859  0.926  1.139  1.327  1.512  1.875]\n"
       ]
      }
     ],
     "prompt_number": 17
    },
    {
     "cell_type": "code",
     "collapsed": false,
     "input": [
      "p = 0.15 + v/10.\n",
      "print p"
     ],
     "language": "python",
     "metadata": {},
     "outputs": [
      {
       "output_type": "stream",
       "stream": "stdout",
       "text": [
        "[ 0.1637  0.1956  0.2091  0.2213  0.2359  0.2426  0.2639  0.2827  0.3012\n",
        "  0.3375]\n"
       ]
      }
     ],
     "prompt_number": 19
    },
    {
     "cell_type": "code",
     "collapsed": false,
     "input": [
      "savetxt('output.dat',(t,p))"
     ],
     "language": "python",
     "metadata": {},
     "outputs": [],
     "prompt_number": 20
    },
    {
     "cell_type": "code",
     "collapsed": false,
     "input": [
      "DataOut = column_stack((t,p))\n",
      "savetxt('output.dat', DataOut)"
     ],
     "language": "python",
     "metadata": {},
     "outputs": [],
     "prompt_number": 21
    },
    {
     "cell_type": "code",
     "collapsed": false,
     "input": [
      "savetxt('output.dat', DataOut, fmt = ('%3i', '%4.3f'))"
     ],
     "language": "python",
     "metadata": {},
     "outputs": [],
     "prompt_number": 22
    },
    {
     "cell_type": "code",
     "collapsed": false,
     "input": [
      "f = open(\"output.dat\",\"w\")\n",
      "f.write(\"#My comment line for this file, followed by a blank line, then the data\\n\\n\")\n",
      "savetxt('output.dat', DataOut, fmt = ('%3i', '%4.3f'))\n",
      "f.close()"
     ],
     "language": "python",
     "metadata": {},
     "outputs": [],
     "prompt_number": 23
    },
    {
     "cell_type": "markdown",
     "metadata": {},
     "source": [
      "###Ex.1"
     ]
    },
    {
     "cell_type": "code",
     "collapsed": false,
     "input": [
      "t = arange(1,11,1)\n",
      "pos = array([7.75, 7.33, 6.89,6.45, 5.96, 5.55, 5.10, 4.49, 3.93, 3.58])\n",
      "uncertainty = array([0.02,0.03,0.03,0.04,0.05,0.06,0.08,0.11,0.14,0.17])\n",
      "\n",
      "print t\n",
      "print pos\n",
      "print uncertainty"
     ],
     "language": "python",
     "metadata": {},
     "outputs": [
      {
       "output_type": "stream",
       "stream": "stdout",
       "text": [
        "[ 1  2  3  4  5  6  7  8  9 10]\n",
        "[ 7.75  7.33  6.89  6.45  5.96  5.55  5.1   4.49  3.93  3.58]\n",
        "[ 0.02  0.03  0.03  0.04  0.05  0.06  0.08  0.11  0.14  0.17]\n"
       ]
      }
     ],
     "prompt_number": 26
    },
    {
     "cell_type": "code",
     "collapsed": false,
     "input": [
      "linearOut = column_stack((t,pos,uncertainty))\n",
      "savetxt('linearData.dat', linearOut, fmt = ('%2i', '%3.2f', '%3.2f'))\n",
      "savetxt('linearData.csv', linearOut, fmt = ('%2i', '%3.2f', '%3.2f'), delimiter=',')"
     ],
     "language": "python",
     "metadata": {},
     "outputs": [],
     "prompt_number": 37
    },
    {
     "cell_type": "code",
     "collapsed": false,
     "input": [],
     "language": "python",
     "metadata": {},
     "outputs": [],
     "prompt_number": 37
    }
   ],
   "metadata": {}
  }
 ]
}