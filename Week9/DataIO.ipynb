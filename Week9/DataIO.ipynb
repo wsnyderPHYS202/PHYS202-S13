{
 "metadata": {
  "name": "DataIO"
 },
 "nbformat": 3,
 "nbformat_minor": 0,
 "worksheets": [
  {
   "cells": [
    {
     "cell_type": "code",
     "collapsed": false,
     "input": [
      "DataIn = loadtxt('input.dat')\n",
      "print DataIn, DataIn.shape"
     ],
     "language": "python",
     "metadata": {},
     "outputs": [
      {
       "output_type": "stream",
       "stream": "stdout",
       "text": [
        "[[ 0.   1.1  0.1]\n",
        " [ 2.   1.9  0.2]\n",
        " [ 4.   3.2  0.1]\n",
        " [ 6.   4.   0.3]\n",
        " [ 8.   5.9  0.3]] (5, 3)\n"
       ]
      }
     ],
     "prompt_number": 1
    },
    {
     "cell_type": "code",
     "collapsed": false,
     "input": [
      "print DataIn[:,2]"
     ],
     "language": "python",
     "metadata": {},
     "outputs": [
      {
       "output_type": "stream",
       "stream": "stdout",
       "text": [
        "[ 0.1  0.2  0.1  0.3  0.3]\n"
       ]
      }
     ],
     "prompt_number": 2
    },
    {
     "cell_type": "code",
     "collapsed": false,
     "input": [
      "x, y, yerr = loadtxt('input.dat', unpack  = True)\n",
      "print x\n",
      "print y\n",
      "print yerr"
     ],
     "language": "python",
     "metadata": {},
     "outputs": [
      {
       "output_type": "stream",
       "stream": "stdout",
       "text": [
        "[ 0.  2.  4.  6.  8.]\n",
        "[ 1.1  1.9  3.2  4.   5.9]\n",
        "[ 0.1  0.2  0.1  0.3  0.3]\n"
       ]
      }
     ],
     "prompt_number": 3
    },
    {
     "cell_type": "code",
     "collapsed": false,
     "input": [
      "x, y = loadtxt('input.dat', unpack  = True, usecols=[0,1])\n",
      "print x\n",
      "print y"
     ],
     "language": "python",
     "metadata": {},
     "outputs": [
      {
       "output_type": "stream",
       "stream": "stdout",
       "text": [
        "[ 0.  2.  4.  6.  8.]\n",
        "[ 1.1  1.9  3.2  4.   5.9]\n"
       ]
      }
     ],
     "prompt_number": 4
    },
    {
     "cell_type": "code",
     "collapsed": false,
     "input": [
      "x, y = loadtxt('input.csv', unpack  = True, delimiter = ',', usecols=[0,1])\n",
      "print x,y"
     ],
     "language": "python",
     "metadata": {},
     "outputs": [
      {
       "output_type": "stream",
       "stream": "stdout",
       "text": [
        "[ 0.  2.  4.  6.  8.] [ 1.1  1.9  3.2  4.   5.9]\n"
       ]
      }
     ],
     "prompt_number": 5
    },
    {
     "cell_type": "code",
     "collapsed": false,
     "input": [
      "t = arange(0.0,1,0.1)\n",
      "v = array([0.137,0.456,0.591,0.713,0.859,0.926,1.139,1.327,1.512,1.875])\n",
      "print t\n",
      "print v"
     ],
     "language": "python",
     "metadata": {},
     "outputs": [
      {
       "output_type": "stream",
       "stream": "stdout",
       "text": [
        "[ 0.   0.1  0.2  0.3  0.4  0.5  0.6  0.7  0.8  0.9]\n",
        "[ 0.137  0.456  0.591  0.713  0.859  0.926  1.139  1.327  1.512  1.875]\n"
       ]
      }
     ],
     "prompt_number": 6
    },
    {
     "cell_type": "code",
     "collapsed": false,
     "input": [
      "p = 0.15 + v/10.\n",
      "print p"
     ],
     "language": "python",
     "metadata": {},
     "outputs": [
      {
       "output_type": "stream",
       "stream": "stdout",
       "text": [
        "[ 0.1637  0.1956  0.2091  0.2213  0.2359  0.2426  0.2639  0.2827  0.3012\n",
        "  0.3375]\n"
       ]
      }
     ],
     "prompt_number": 7
    },
    {
     "cell_type": "code",
     "collapsed": false,
     "input": [
      "savetxt('output.dat',(t,p))"
     ],
     "language": "python",
     "metadata": {},
     "outputs": [],
     "prompt_number": 8
    },
    {
     "cell_type": "code",
     "collapsed": false,
     "input": [
      "DataOut = column_stack((t,p))\n",
      "savetxt('output.dat', DataOut)"
     ],
     "language": "python",
     "metadata": {},
     "outputs": [],
     "prompt_number": 9
    },
    {
     "cell_type": "code",
     "collapsed": false,
     "input": [
      "savetxt('output.dat', DataOut, fmt = ('%3i', '%4.3f'))"
     ],
     "language": "python",
     "metadata": {},
     "outputs": [],
     "prompt_number": 10
    },
    {
     "cell_type": "code",
     "collapsed": false,
     "input": [
      "f = open(\"output.dat\",\"w\")\n",
      "f.write(\"#My comment line for this file, followed by a blank line, then the data\\n\\n\")\n",
      "savetxt('output.dat', DataOut, fmt = ('%3i', '%4.3f'))\n",
      "f.close()"
     ],
     "language": "python",
     "metadata": {},
     "outputs": [],
     "prompt_number": 11
    },
    {
     "cell_type": "markdown",
     "metadata": {},
     "source": [
      "###Ex.1"
     ]
    },
    {
     "cell_type": "code",
     "collapsed": false,
     "input": [
      "t = arange(1,11,1)\n",
      "pos = array([7.75, 7.33, 6.89,6.45, 5.96, 5.55, 5.10, 4.49, 3.93, 3.58])\n",
      "uncertainty = array([0.02,0.03,0.03,0.04,0.05,0.06,0.08,0.11,0.14,0.17])\n",
      "\n",
      "print t\n",
      "print pos\n",
      "print uncertainty"
     ],
     "language": "python",
     "metadata": {},
     "outputs": [
      {
       "output_type": "stream",
       "stream": "stdout",
       "text": [
        "[ 1  2  3  4  5  6  7  8  9 10]\n",
        "[ 7.75  7.33  6.89  6.45  5.96  5.55  5.1   4.49  3.93  3.58]\n",
        "[ 0.02  0.03  0.03  0.04  0.05  0.06  0.08  0.11  0.14  0.17]\n"
       ]
      }
     ],
     "prompt_number": 12
    },
    {
     "cell_type": "code",
     "collapsed": false,
     "input": [
      "linearOut = column_stack((t,pos,uncertainty))\n",
      "savetxt('linearData.dat', linearOut, fmt = ('%2i', '%3.2f', '%3.2f'))\n",
      "savetxt('linearData.csv', linearOut, fmt = ('%2i', '%3.2f', '%3.2f'), delimiter=',')"
     ],
     "language": "python",
     "metadata": {},
     "outputs": [],
     "prompt_number": 13
    },
    {
     "cell_type": "markdown",
     "metadata": {},
     "source": [
      "###Ex. 2"
     ]
    },
    {
     "cell_type": "markdown",
     "metadata": {},
     "source": [
      "####(a)"
     ]
    },
    {
     "cell_type": "code",
     "collapsed": false,
     "input": [
      "def LinearLeastSquaresFit(x,y):\n",
      "    \"\"\"Take in arrays representing (x,y) values for a set of linearly varying data and\n",
      "    perform a linear least squares regression. Return the resulting slope and intercept\n",
      "    paramers of the best fit line with their uncertainties.\"\"\"\n",
      "    n = 1./(x.size)\n",
      "    pxy = n*sum(x*y)\n",
      "    px = n*sum(x)\n",
      "    py = n*sum(y)\n",
      "    pxsq = n*sum((x**2))\n",
      "    \n",
      "    m = (pxy - px*py)/(pxsq - px**2)\n",
      "    b = (pxsq*py - px*pxy)/(pxsq - px**2)\n",
      "    \n",
      "    pd = n*sum((y - (m*x+b))**2)\n",
      "    unm = sqrt(1./(x.size - 2)*pd/(pxsq-px**2))\n",
      "    unb = sqrt(1./(x.size - 2)*pd*pxsq/(pxsq-px**2))\n",
      "    \n",
      "    return m,b,unm,unb"
     ],
     "language": "python",
     "metadata": {},
     "outputs": [],
     "prompt_number": 14
    },
    {
     "cell_type": "markdown",
     "metadata": {},
     "source": [
      "####(b)"
     ]
    },
    {
     "cell_type": "code",
     "collapsed": false,
     "input": [
      "DataIn = loadtxt('linearData.dat')\n",
      "print DataIn\n",
      "linx = DataIn[0:,0]\n",
      "liny = DataIn[0:,1]"
     ],
     "language": "python",
     "metadata": {},
     "outputs": [
      {
       "output_type": "stream",
       "stream": "stdout",
       "text": [
        "[[  1.     7.75   0.02]\n",
        " [  2.     7.33   0.03]\n",
        " [  3.     6.89   0.03]\n",
        " [  4.     6.45   0.04]\n",
        " [  5.     5.96   0.05]\n",
        " [  6.     5.55   0.06]\n",
        " [  7.     5.1    0.08]\n",
        " [  8.     4.49   0.11]\n",
        " [  9.     3.93   0.14]\n",
        " [ 10.     3.58   0.17]]\n"
       ]
      }
     ],
     "prompt_number": 15
    },
    {
     "cell_type": "code",
     "collapsed": false,
     "input": [
      "LinearLeastSquaresFit(linx,liny)"
     ],
     "language": "python",
     "metadata": {},
     "outputs": [
      {
       "output_type": "pyout",
       "prompt_number": 16,
       "text": [
        "(-0.47145454545454479,\n",
        " 8.2959999999999976,\n",
        " 0.0079948330421529511,\n",
        " 0.04960663445365119)"
       ]
      }
     ],
     "prompt_number": 16
    },
    {
     "cell_type": "markdown",
     "metadata": {},
     "source": [
      "####(c)"
     ]
    },
    {
     "cell_type": "code",
     "collapsed": false,
     "input": [
      "m = LinearLeastSquaresFit(linx,liny)[0]\n",
      "unm = LinearLeastSquaresFit(linx,liny)[2]\n",
      "b = LinearLeastSquaresFit(linx,liny)[1]\n",
      "unb = LinearLeastSquaresFit(linx,liny)[3]\n",
      "\n",
      "mxb = m*linx+ b\n",
      "mxb_p = (m+unm)*linx+(b+unb)\n",
      "mxb_m = (m-unm)*linx+(b-unb)\n",
      "\n",
      "figure(figsize = (8,6))\n",
      "\n",
      "plot(linx, liny, 'k*', label = '(x,y)')\n",
      "plot(linx, mxb, color = 'b', label = 'y = %.4f x + %.4f' % (m,b))\n",
      "plot(linx, mxb_p, 'r--', label = 'y = %.4f x + %.4f' % (m+unm,b+unb))\n",
      "plot(linx, mxb_m, 'g--', label = 'y = %.4f x + %.4f' % (m-unm,b-unb))\n",
      "\n",
      "\n",
      "xlabel(\"$X$\", fontsize = 30)\n",
      "ylabel(\"$Y$\", fontsize = 30)\n",
      "\n",
      "grid(True)\n",
      "legend(loc = 'upper right')\n",
      "show()"
     ],
     "language": "python",
     "metadata": {},
     "outputs": [
      {
       "output_type": "display_data",
       "png": "[encoded data removed]"
      }
     ],
     "prompt_number": 29
    },
    {
     "cell_type": "markdown",
     "metadata": {},
     "source": [
      "###Ex. 3"
     ]
    },
    {
     "cell_type": "markdown",
     "metadata": {},
     "source": [
      "####(a)"
     ]
    },
    {
     "cell_type": "code",
     "collapsed": false,
     "input": [
      "def WeightedLinearLeastSquaresFit(x,y,w):\n",
      "    \"\"\"Take in arrays representing (x,y) values for a set of linearly varying data and an array of weights w.\n",
      "    perform a weighted linear least squares regression. Return the resulting slope and intercept\n",
      "    parameters of the best fit line with their uncertainties.\"\"\"\n",
      "    W = float(sum(w))\n",
      "    WXY = float(sum(w*x*y))\n",
      "    WX = float(sum(w*x))\n",
      "    WY = float(sum(w*y))\n",
      "    WXsq = float(sum(w*(x**2)))\n",
      "    \n",
      "    m = (W*WXY-WX*WY)/(W*WXsq-(WX**2))\n",
      "    b = (WXsq*WY-WX*WXY)/(W*WXsq-(WX)**2)\n",
      "    \n",
      "    unm = sqrt(W/(W*WXsq-(WX**2))) \n",
      "    unb = sqrt(WXsq/(W*WXsq-(WX**2)))\n",
      "    \n",
      "    return m,unm,b,unb"
     ],
     "language": "python",
     "metadata": {},
     "outputs": [],
     "prompt_number": 18
    },
    {
     "cell_type": "code",
     "collapsed": false,
     "input": [
      "DataIn = loadtxt('linearData.dat')\n",
      "print DataIn\n",
      "lin1 = DataIn[0:,0]\n",
      "lin2 = DataIn[0:,1]\n",
      "lin3 = DataIn[0:,2]"
     ],
     "language": "python",
     "metadata": {},
     "outputs": [
      {
       "output_type": "stream",
       "stream": "stdout",
       "text": [
        "[[  1.     7.75   0.02]\n",
        " [  2.     7.33   0.03]\n",
        " [  3.     6.89   0.03]\n",
        " [  4.     6.45   0.04]\n",
        " [  5.     5.96   0.05]\n",
        " [  6.     5.55   0.06]\n",
        " [  7.     5.1    0.08]\n",
        " [  8.     4.49   0.11]\n",
        " [  9.     3.93   0.14]\n",
        " [ 10.     3.58   0.17]]\n"
       ]
      }
     ],
     "prompt_number": 19
    },
    {
     "cell_type": "code",
     "collapsed": false,
     "input": [
      "WeightedLinearLeastSquaresFit(lin1,lin2,lin3)\n"
     ],
     "language": "python",
     "metadata": {},
     "outputs": [
      {
       "output_type": "pyout",
       "prompt_number": 42,
       "text": [
        "(-0.47935815933745307,\n",
        " 0.46138664815910974,\n",
        " 8.343935028578077,\n",
        " 3.5722533249757151)"
       ]
      }
     ],
     "prompt_number": 42
    },
    {
     "cell_type": "markdown",
     "metadata": {},
     "source": [
      "####(c)"
     ]
    },
    {
     "cell_type": "code",
     "collapsed": false,
     "input": [
      "wm = WeightedLinearLeastSquaresFit(lin1,lin2,lin3)[0]\n",
      "wunm = WeightedLinearLeastSquaresFit(lin1,lin2,lin3)[1]\n",
      "wb = WeightedLinearLeastSquaresFit(lin1,lin2,lin3)[2]\n",
      "wunb = WeightedLinearLeastSquaresFit(lin1,lin2,lin3)[3]\n",
      "\n",
      "wmxb = wm*lin1+wb\n",
      "\n",
      "figure(figsize = (8,6))\n",
      "\n",
      "plot(lin1, lin2, 'k*', label = '(x,y)')\n",
      "plot(lin1, mxb, color = 'b', label = 'y = %.4f x + %.4f' % (m,b))\n",
      "plot(lin1, wmxb, 'r--', label = 'y = %.4f x + %.4f' % (wm,wb))\n",
      "errorbar(lin1, lin2, lin3, fmt = None, label = 'Error')\n",
      "\n",
      "xlabel(\"$x-values$\", fontsize = 30)\n",
      "ylabel(\"$mx+b$\", fontsize = 30)\n",
      "\n",
      "grid(True)\n",
      "legend(loc = 'best')\n",
      "show()"
     ],
     "language": "python",
     "metadata": {},
     "outputs": [
      {
       "output_type": "display_data",
       "png": "[encoded data removed]"
      }
     ],
     "prompt_number": 44
    },
    {
     "cell_type": "code",
     "collapsed": false,
     "input": [],
     "language": "python",
     "metadata": {},
     "outputs": []
    }
   ],
   "metadata": {}
  }
 ]
}